{
 "cells": [
  {
   "cell_type": "code",
   "execution_count": 44,
   "id": "2f861b81",
   "metadata": {},
   "outputs": [
    {
     "name": "stdout",
     "output_type": "stream",
     "text": [
      "Введите любое число от 1 до 10055\n",
      "Ваше число - 55\n",
      "Число угадано за 5 попыток\n"
     ]
    }
   ],
   "source": [
    "import numpy as np\n",
    "import random\n",
    "\n",
    "# The function works by narrowing interval in which input number occurs.\n",
    "\n",
    "def boundaies_game_v1(lower_b,higher_b,number,count) : # working function - finds number\n",
    "                                                        #lower_b, higher_b - low and high boundaries of\n",
    "                                                        # the current interval\n",
    "                                                        # number - input number the function find\n",
    "                                                        # count - attempts counter\n",
    "    predict = np.random.randint(lower_b-1,higher_b+1)   # set random number as preliminary target\n",
    "  \n",
    "    if lower_b < number < predict :                     # number is smaller than target\n",
    "        count+=1\n",
    "        \n",
    "        boundaies_game_v1(lower_b,predict,number,count)  # function call with adjusted boundaries\n",
    "    elif predict < number < higher_b :                   # number is greater than target\n",
    "        count+=1\n",
    "        boundaies_game_v1(predict,higher_b,number,count) # function call with adjusted boundaries  \n",
    "    elif predict == number :                             # random target equals the number\n",
    "        print(f\"Ваше число - {predict}\")\n",
    "        print(f\"Число угадано за {count} попыток\")\n",
    "\n",
    "    \n",
    "def shell_game() :                                            # calling function that simplifies working function call\n",
    "                                                              # with dialog input and simple check\n",
    "    number = int(input(\"Введите любое число от 1 до 100\"))\n",
    "    if number > 100 :                                         # number is out of the check boundaries\n",
    "        print(\"Извините, вы ошиблись, число слишком велико\")\n",
    "    else :\n",
    "        boundaies_game_v1(1,100,number,1)\n",
    "# Note for the tutor. It might be good to check also if input is numeric but I found it relatively difficult to me\n",
    "# yet to write such a check.\n",
    "    \n",
    "shell_game()\n"
   ]
  },
  {
   "cell_type": "code",
   "execution_count": null,
   "id": "3dddd0b3",
   "metadata": {},
   "outputs": [],
   "source": []
  }
 ],
 "metadata": {
  "kernelspec": {
   "display_name": "Python 3",
   "language": "python",
   "name": "python3"
  },
  "language_info": {
   "codemirror_mode": {
    "name": "ipython",
    "version": 3
   },
   "file_extension": ".py",
   "mimetype": "text/x-python",
   "name": "python",
   "nbconvert_exporter": "python",
   "pygments_lexer": "ipython3",
   "version": "3.8.8"
  }
 },
 "nbformat": 4,
 "nbformat_minor": 5
}
