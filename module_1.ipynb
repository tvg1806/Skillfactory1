{
 "cells": [
  {
   "cell_type": "code",
   "execution_count": 120,
   "metadata": {
    "_cell_guid": "b1076dfc-b9ad-4769-8c92-a6c4dae69d19",
    "_uuid": "8f2839f25d086af736a60e9eeb907d3b93b6e0e5",
    "colab": {},
    "colab_type": "code",
    "id": "U2D2gTdJVp90"
   },
   "outputs": [],
   "source": [
    "import numpy as np\n",
    "import pandas as pd\n",
    "import seaborn as sns\n",
    "import matplotlib.pyplot as plt\n",
    "from collections import Counter"
   ]
  },
  {
   "cell_type": "code",
   "execution_count": 121,
   "metadata": {
    "_cell_guid": "79c7e3d0-c299-4dcb-8224-4455121ee9b0",
    "_uuid": "d629ff2d2480ee46fbb7e2d37f6b5fab8052498a",
    "colab": {},
    "colab_type": "code",
    "id": "oyGfxL3eVp9-"
   },
   "outputs": [
    {
     "data": {
      "text/html": [
       "<div>\n",
       "<style scoped>\n",
       "    .dataframe tbody tr th:only-of-type {\n",
       "        vertical-align: middle;\n",
       "    }\n",
       "\n",
       "    .dataframe tbody tr th {\n",
       "        vertical-align: top;\n",
       "    }\n",
       "\n",
       "    .dataframe thead th {\n",
       "        text-align: right;\n",
       "    }\n",
       "</style>\n",
       "<table border=\"1\" class=\"dataframe\">\n",
       "  <thead>\n",
       "    <tr style=\"text-align: right;\">\n",
       "      <th></th>\n",
       "      <th>imdb_id</th>\n",
       "      <th>budget</th>\n",
       "      <th>revenue</th>\n",
       "      <th>original_title</th>\n",
       "      <th>cast</th>\n",
       "      <th>director</th>\n",
       "      <th>tagline</th>\n",
       "      <th>overview</th>\n",
       "      <th>runtime</th>\n",
       "      <th>genres</th>\n",
       "      <th>production_companies</th>\n",
       "      <th>release_date</th>\n",
       "      <th>vote_average</th>\n",
       "      <th>release_year</th>\n",
       "    </tr>\n",
       "  </thead>\n",
       "  <tbody>\n",
       "    <tr>\n",
       "      <th>1679</th>\n",
       "      <td>tt0337978</td>\n",
       "      <td>110000000</td>\n",
       "      <td>383531464</td>\n",
       "      <td>Live Free or Die Hard</td>\n",
       "      <td>Bruce Willis|Justin Long|Timothy Olyphant|Clif...</td>\n",
       "      <td>Len Wiseman</td>\n",
       "      <td>The old school cop is back!</td>\n",
       "      <td>John McClane is back and badder than ever, and...</td>\n",
       "      <td>128</td>\n",
       "      <td>Action|Thriller</td>\n",
       "      <td>Ingenious Film Partners|Twentieth Century Fox ...</td>\n",
       "      <td>6/20/2007</td>\n",
       "      <td>6.3</td>\n",
       "      <td>2007</td>\n",
       "    </tr>\n",
       "    <tr>\n",
       "      <th>88</th>\n",
       "      <td>tt2404425</td>\n",
       "      <td>11000000</td>\n",
       "      <td>61619773</td>\n",
       "      <td>Woman in Gold</td>\n",
       "      <td>Helen Mirren|Ryan Reynolds|Tatiana Maslany|Kat...</td>\n",
       "      <td>Simon Curtis</td>\n",
       "      <td>Justice is Priceless.</td>\n",
       "      <td>Maria Altmann, an octogenarian Jewish refugee,...</td>\n",
       "      <td>120</td>\n",
       "      <td>Drama</td>\n",
       "      <td>BBC Films|Origin Pictures</td>\n",
       "      <td>4/10/2015</td>\n",
       "      <td>7.3</td>\n",
       "      <td>2015</td>\n",
       "    </tr>\n",
       "    <tr>\n",
       "      <th>1867</th>\n",
       "      <td>tt0181536</td>\n",
       "      <td>43000000</td>\n",
       "      <td>80049764</td>\n",
       "      <td>Finding Forrester</td>\n",
       "      <td>Sean Connery|Rob Brown|F. Murray Abraham|Anna ...</td>\n",
       "      <td>Gus Van Sant</td>\n",
       "      <td>In an ordinary place, he found the one person ...</td>\n",
       "      <td>Gus van Sant tells the story of a young Africa...</td>\n",
       "      <td>136</td>\n",
       "      <td>Drama</td>\n",
       "      <td>Fountainbridge Films|Laurence Mark Productions...</td>\n",
       "      <td>12/21/2000</td>\n",
       "      <td>6.9</td>\n",
       "      <td>2000</td>\n",
       "    </tr>\n",
       "    <tr>\n",
       "      <th>1152</th>\n",
       "      <td>tt0269347</td>\n",
       "      <td>55000000</td>\n",
       "      <td>34234008</td>\n",
       "      <td>The Hunted</td>\n",
       "      <td>Tommy Lee Jones|Benicio del Toro|Connie Nielse...</td>\n",
       "      <td>William Friedkin</td>\n",
       "      <td>Some men should not be found.</td>\n",
       "      <td>In the wilderness of British Columbia, two hun...</td>\n",
       "      <td>94</td>\n",
       "      <td>Drama|Action|Thriller|Crime</td>\n",
       "      <td>Lakeshore Entertainment|Alphaville Films</td>\n",
       "      <td>3/11/2003</td>\n",
       "      <td>5.8</td>\n",
       "      <td>2003</td>\n",
       "    </tr>\n",
       "    <tr>\n",
       "      <th>1564</th>\n",
       "      <td>tt0332280</td>\n",
       "      <td>29000000</td>\n",
       "      <td>115603229</td>\n",
       "      <td>The Notebook</td>\n",
       "      <td>Rachel McAdams|Ryan Gosling|Gena Rowlands|Jame...</td>\n",
       "      <td>Nick Cassavetes</td>\n",
       "      <td>Behind every great love is a great story.</td>\n",
       "      <td>An epic love story centered around an older ma...</td>\n",
       "      <td>123</td>\n",
       "      <td>Romance|Drama</td>\n",
       "      <td>New Line Cinema</td>\n",
       "      <td>6/25/2004</td>\n",
       "      <td>7.5</td>\n",
       "      <td>2004</td>\n",
       "    </tr>\n",
       "  </tbody>\n",
       "</table>\n",
       "</div>"
      ],
      "text/plain": [
       "        imdb_id     budget    revenue         original_title  \\\n",
       "1679  tt0337978  110000000  383531464  Live Free or Die Hard   \n",
       "88    tt2404425   11000000   61619773          Woman in Gold   \n",
       "1867  tt0181536   43000000   80049764      Finding Forrester   \n",
       "1152  tt0269347   55000000   34234008             The Hunted   \n",
       "1564  tt0332280   29000000  115603229           The Notebook   \n",
       "\n",
       "                                                   cast          director  \\\n",
       "1679  Bruce Willis|Justin Long|Timothy Olyphant|Clif...       Len Wiseman   \n",
       "88    Helen Mirren|Ryan Reynolds|Tatiana Maslany|Kat...      Simon Curtis   \n",
       "1867  Sean Connery|Rob Brown|F. Murray Abraham|Anna ...      Gus Van Sant   \n",
       "1152  Tommy Lee Jones|Benicio del Toro|Connie Nielse...  William Friedkin   \n",
       "1564  Rachel McAdams|Ryan Gosling|Gena Rowlands|Jame...   Nick Cassavetes   \n",
       "\n",
       "                                                tagline  \\\n",
       "1679                        The old school cop is back!   \n",
       "88                                Justice is Priceless.   \n",
       "1867  In an ordinary place, he found the one person ...   \n",
       "1152                      Some men should not be found.   \n",
       "1564          Behind every great love is a great story.   \n",
       "\n",
       "                                               overview  runtime  \\\n",
       "1679  John McClane is back and badder than ever, and...      128   \n",
       "88    Maria Altmann, an octogenarian Jewish refugee,...      120   \n",
       "1867  Gus van Sant tells the story of a young Africa...      136   \n",
       "1152  In the wilderness of British Columbia, two hun...       94   \n",
       "1564  An epic love story centered around an older ma...      123   \n",
       "\n",
       "                           genres  \\\n",
       "1679              Action|Thriller   \n",
       "88                          Drama   \n",
       "1867                        Drama   \n",
       "1152  Drama|Action|Thriller|Crime   \n",
       "1564                Romance|Drama   \n",
       "\n",
       "                                   production_companies release_date  \\\n",
       "1679  Ingenious Film Partners|Twentieth Century Fox ...    6/20/2007   \n",
       "88                            BBC Films|Origin Pictures    4/10/2015   \n",
       "1867  Fountainbridge Films|Laurence Mark Productions...   12/21/2000   \n",
       "1152           Lakeshore Entertainment|Alphaville Films    3/11/2003   \n",
       "1564                                    New Line Cinema    6/25/2004   \n",
       "\n",
       "      vote_average  release_year  \n",
       "1679           6.3          2007  \n",
       "88             7.3          2015  \n",
       "1867           6.9          2000  \n",
       "1152           5.8          2003  \n",
       "1564           7.5          2004  "
      ]
     },
     "execution_count": 121,
     "metadata": {},
     "output_type": "execute_result"
    }
   ],
   "source": [
    "data = pd.read_csv('movie_bd_v5.csv')\n",
    "data.sample(5)"
   ]
  },
  {
   "cell_type": "code",
   "execution_count": 222,
   "metadata": {
    "colab": {},
    "colab_type": "code",
    "id": "CoYUnagMVp-C"
   },
   "outputs": [
    {
     "data": {
      "text/html": [
       "<div>\n",
       "<style scoped>\n",
       "    .dataframe tbody tr th:only-of-type {\n",
       "        vertical-align: middle;\n",
       "    }\n",
       "\n",
       "    .dataframe tbody tr th {\n",
       "        vertical-align: top;\n",
       "    }\n",
       "\n",
       "    .dataframe thead th {\n",
       "        text-align: right;\n",
       "    }\n",
       "</style>\n",
       "<table border=\"1\" class=\"dataframe\">\n",
       "  <thead>\n",
       "    <tr style=\"text-align: right;\">\n",
       "      <th></th>\n",
       "      <th>budget</th>\n",
       "      <th>revenue</th>\n",
       "      <th>runtime</th>\n",
       "      <th>vote_average</th>\n",
       "      <th>release_year</th>\n",
       "    </tr>\n",
       "  </thead>\n",
       "  <tbody>\n",
       "    <tr>\n",
       "      <th>count</th>\n",
       "      <td>1.889000e+03</td>\n",
       "      <td>1.889000e+03</td>\n",
       "      <td>1889.000000</td>\n",
       "      <td>1889.000000</td>\n",
       "      <td>1889.000000</td>\n",
       "    </tr>\n",
       "    <tr>\n",
       "      <th>mean</th>\n",
       "      <td>5.431083e+07</td>\n",
       "      <td>1.553653e+08</td>\n",
       "      <td>109.658549</td>\n",
       "      <td>6.140762</td>\n",
       "      <td>2007.860773</td>\n",
       "    </tr>\n",
       "    <tr>\n",
       "      <th>std</th>\n",
       "      <td>4.858721e+07</td>\n",
       "      <td>2.146698e+08</td>\n",
       "      <td>18.017041</td>\n",
       "      <td>0.764763</td>\n",
       "      <td>4.468841</td>\n",
       "    </tr>\n",
       "    <tr>\n",
       "      <th>min</th>\n",
       "      <td>5.000000e+06</td>\n",
       "      <td>2.033165e+06</td>\n",
       "      <td>63.000000</td>\n",
       "      <td>3.300000</td>\n",
       "      <td>2000.000000</td>\n",
       "    </tr>\n",
       "    <tr>\n",
       "      <th>25%</th>\n",
       "      <td>2.000000e+07</td>\n",
       "      <td>3.456058e+07</td>\n",
       "      <td>97.000000</td>\n",
       "      <td>5.600000</td>\n",
       "      <td>2004.000000</td>\n",
       "    </tr>\n",
       "    <tr>\n",
       "      <th>50%</th>\n",
       "      <td>3.800000e+07</td>\n",
       "      <td>8.361541e+07</td>\n",
       "      <td>107.000000</td>\n",
       "      <td>6.100000</td>\n",
       "      <td>2008.000000</td>\n",
       "    </tr>\n",
       "    <tr>\n",
       "      <th>75%</th>\n",
       "      <td>7.200000e+07</td>\n",
       "      <td>1.782626e+08</td>\n",
       "      <td>120.000000</td>\n",
       "      <td>6.600000</td>\n",
       "      <td>2012.000000</td>\n",
       "    </tr>\n",
       "    <tr>\n",
       "      <th>max</th>\n",
       "      <td>3.800000e+08</td>\n",
       "      <td>2.781506e+09</td>\n",
       "      <td>214.000000</td>\n",
       "      <td>8.100000</td>\n",
       "      <td>2015.000000</td>\n",
       "    </tr>\n",
       "  </tbody>\n",
       "</table>\n",
       "</div>"
      ],
      "text/plain": [
       "             budget       revenue      runtime  vote_average  release_year\n",
       "count  1.889000e+03  1.889000e+03  1889.000000   1889.000000   1889.000000\n",
       "mean   5.431083e+07  1.553653e+08   109.658549      6.140762   2007.860773\n",
       "std    4.858721e+07  2.146698e+08    18.017041      0.764763      4.468841\n",
       "min    5.000000e+06  2.033165e+06    63.000000      3.300000   2000.000000\n",
       "25%    2.000000e+07  3.456058e+07    97.000000      5.600000   2004.000000\n",
       "50%    3.800000e+07  8.361541e+07   107.000000      6.100000   2008.000000\n",
       "75%    7.200000e+07  1.782626e+08   120.000000      6.600000   2012.000000\n",
       "max    3.800000e+08  2.781506e+09   214.000000      8.100000   2015.000000"
      ]
     },
     "execution_count": 222,
     "metadata": {},
     "output_type": "execute_result"
    }
   ],
   "source": [
    "data.describe()"
   ]
  },
  {
   "cell_type": "markdown",
   "metadata": {
    "colab_type": "text",
    "id": "DTIt7ezGVp-G"
   },
   "source": [
    "# Предобработка"
   ]
  },
  {
   "cell_type": "code",
   "execution_count": 122,
   "metadata": {
    "colab": {},
    "colab_type": "code",
    "id": "jNb40DwKVp-H"
   },
   "outputs": [
    {
     "data": {
      "text/html": [
       "<div>\n",
       "<style scoped>\n",
       "    .dataframe tbody tr th:only-of-type {\n",
       "        vertical-align: middle;\n",
       "    }\n",
       "\n",
       "    .dataframe tbody tr th {\n",
       "        vertical-align: top;\n",
       "    }\n",
       "\n",
       "    .dataframe thead th {\n",
       "        text-align: right;\n",
       "    }\n",
       "</style>\n",
       "<table border=\"1\" class=\"dataframe\">\n",
       "  <thead>\n",
       "    <tr style=\"text-align: right;\">\n",
       "      <th></th>\n",
       "      <th>imdb_id</th>\n",
       "      <th>budget</th>\n",
       "      <th>revenue</th>\n",
       "      <th>original_title</th>\n",
       "      <th>cast</th>\n",
       "      <th>director</th>\n",
       "      <th>tagline</th>\n",
       "      <th>overview</th>\n",
       "      <th>runtime</th>\n",
       "      <th>genres</th>\n",
       "      <th>production_companies</th>\n",
       "      <th>release_date</th>\n",
       "      <th>vote_average</th>\n",
       "      <th>release_year</th>\n",
       "      <th>month</th>\n",
       "      <th>profit</th>\n",
       "    </tr>\n",
       "  </thead>\n",
       "  <tbody>\n",
       "    <tr>\n",
       "      <th>992</th>\n",
       "      <td>tt1386703</td>\n",
       "      <td>125000000</td>\n",
       "      <td>198802074</td>\n",
       "      <td>Total Recall</td>\n",
       "      <td>[Colin Farrell, Kate Beckinsale, Jessica Biel,...</td>\n",
       "      <td>[Len Wiseman]</td>\n",
       "      <td>What Is Real?</td>\n",
       "      <td>Welcome to Rekall, the company that can turn y...</td>\n",
       "      <td>121</td>\n",
       "      <td>[Action, Science Fiction, Adventure, Thriller]</td>\n",
       "      <td>[Columbia Pictures]</td>\n",
       "      <td>8/2/2012</td>\n",
       "      <td>5.8</td>\n",
       "      <td>2012</td>\n",
       "      <td>8</td>\n",
       "      <td>73802074</td>\n",
       "    </tr>\n",
       "    <tr>\n",
       "      <th>1657</th>\n",
       "      <td>tt0349825</td>\n",
       "      <td>28000000</td>\n",
       "      <td>64445708</td>\n",
       "      <td>Miracle</td>\n",
       "      <td>[Kurt Russell, Patricia Clarkson, Noah Emmeric...</td>\n",
       "      <td>[Gavin O'Connor]</td>\n",
       "      <td>If you believe in yourself, anything can happen.</td>\n",
       "      <td>In 1980, the United States Ice Hockey team's c...</td>\n",
       "      <td>135</td>\n",
       "      <td>[Drama, History]</td>\n",
       "      <td>[Walt Disney]</td>\n",
       "      <td>2/6/2004</td>\n",
       "      <td>6.8</td>\n",
       "      <td>2004</td>\n",
       "      <td>2</td>\n",
       "      <td>36445708</td>\n",
       "    </tr>\n",
       "    <tr>\n",
       "      <th>1102</th>\n",
       "      <td>tt0322589</td>\n",
       "      <td>18000000</td>\n",
       "      <td>62646763</td>\n",
       "      <td>Honey</td>\n",
       "      <td>[Jessica Alba, Mekhi Phifer, Joy Bryant, Romeo...</td>\n",
       "      <td>[Bille Woodruff]</td>\n",
       "      <td>Her dream. Her terms</td>\n",
       "      <td>Honey Daniels (Jessica Alba) dreams of making ...</td>\n",
       "      <td>94</td>\n",
       "      <td>[Music]</td>\n",
       "      <td>[Universal Pictures, Marc Platt Productions, N...</td>\n",
       "      <td>11/24/2003</td>\n",
       "      <td>6.0</td>\n",
       "      <td>2003</td>\n",
       "      <td>11</td>\n",
       "      <td>44646763</td>\n",
       "    </tr>\n",
       "    <tr>\n",
       "      <th>178</th>\n",
       "      <td>tt1408253</td>\n",
       "      <td>25000000</td>\n",
       "      <td>153997819</td>\n",
       "      <td>Ride Along</td>\n",
       "      <td>[Ice Cube, Kevin Hart, John Leguizamo, Bruce M...</td>\n",
       "      <td>[Tim Story]</td>\n",
       "      <td>Propose to this cop's sister? Rookie mistake.</td>\n",
       "      <td>For the past two years, high-school security g...</td>\n",
       "      <td>99</td>\n",
       "      <td>[Action, Comedy]</td>\n",
       "      <td>[Universal Pictures, Rainforest Films, Cube Vi...</td>\n",
       "      <td>1/17/2014</td>\n",
       "      <td>6.1</td>\n",
       "      <td>2014</td>\n",
       "      <td>1</td>\n",
       "      <td>128997819</td>\n",
       "    </tr>\n",
       "    <tr>\n",
       "      <th>609</th>\n",
       "      <td>tt0859163</td>\n",
       "      <td>145000000</td>\n",
       "      <td>401128639</td>\n",
       "      <td>The Mummy: Tomb of the Dragon Emperor</td>\n",
       "      <td>[Brendan Fraser, Jet Li, John Hannah, Maria Be...</td>\n",
       "      <td>[Rob Cohen]</td>\n",
       "      <td>A New Evil Awakens.</td>\n",
       "      <td>The third installment in the Mummy franchise t...</td>\n",
       "      <td>112</td>\n",
       "      <td>[Adventure, Fantasy, Action, Thriller]</td>\n",
       "      <td>[Universal Pictures, China Film Co-Production ...</td>\n",
       "      <td>7/1/2008</td>\n",
       "      <td>5.1</td>\n",
       "      <td>2008</td>\n",
       "      <td>7</td>\n",
       "      <td>256128639</td>\n",
       "    </tr>\n",
       "  </tbody>\n",
       "</table>\n",
       "</div>"
      ],
      "text/plain": [
       "        imdb_id     budget    revenue                         original_title  \\\n",
       "992   tt1386703  125000000  198802074                           Total Recall   \n",
       "1657  tt0349825   28000000   64445708                                Miracle   \n",
       "1102  tt0322589   18000000   62646763                                  Honey   \n",
       "178   tt1408253   25000000  153997819                             Ride Along   \n",
       "609   tt0859163  145000000  401128639  The Mummy: Tomb of the Dragon Emperor   \n",
       "\n",
       "                                                   cast          director  \\\n",
       "992   [Colin Farrell, Kate Beckinsale, Jessica Biel,...     [Len Wiseman]   \n",
       "1657  [Kurt Russell, Patricia Clarkson, Noah Emmeric...  [Gavin O'Connor]   \n",
       "1102  [Jessica Alba, Mekhi Phifer, Joy Bryant, Romeo...  [Bille Woodruff]   \n",
       "178   [Ice Cube, Kevin Hart, John Leguizamo, Bruce M...       [Tim Story]   \n",
       "609   [Brendan Fraser, Jet Li, John Hannah, Maria Be...       [Rob Cohen]   \n",
       "\n",
       "                                               tagline  \\\n",
       "992                                      What Is Real?   \n",
       "1657  If you believe in yourself, anything can happen.   \n",
       "1102                              Her dream. Her terms   \n",
       "178      Propose to this cop's sister? Rookie mistake.   \n",
       "609                                A New Evil Awakens.   \n",
       "\n",
       "                                               overview  runtime  \\\n",
       "992   Welcome to Rekall, the company that can turn y...      121   \n",
       "1657  In 1980, the United States Ice Hockey team's c...      135   \n",
       "1102  Honey Daniels (Jessica Alba) dreams of making ...       94   \n",
       "178   For the past two years, high-school security g...       99   \n",
       "609   The third installment in the Mummy franchise t...      112   \n",
       "\n",
       "                                              genres  \\\n",
       "992   [Action, Science Fiction, Adventure, Thriller]   \n",
       "1657                                [Drama, History]   \n",
       "1102                                         [Music]   \n",
       "178                                 [Action, Comedy]   \n",
       "609           [Adventure, Fantasy, Action, Thriller]   \n",
       "\n",
       "                                   production_companies release_date  \\\n",
       "992                                 [Columbia Pictures]     8/2/2012   \n",
       "1657                                      [Walt Disney]     2/6/2004   \n",
       "1102  [Universal Pictures, Marc Platt Productions, N...   11/24/2003   \n",
       "178   [Universal Pictures, Rainforest Films, Cube Vi...    1/17/2014   \n",
       "609   [Universal Pictures, China Film Co-Production ...     7/1/2008   \n",
       "\n",
       "      vote_average  release_year  month     profit  \n",
       "992            5.8          2012      8   73802074  \n",
       "1657           6.8          2004      2   36445708  \n",
       "1102           6.0          2003     11   44646763  \n",
       "178            6.1          2014      1  128997819  \n",
       "609            5.1          2008      7  256128639  "
      ]
     },
     "execution_count": 122,
     "metadata": {},
     "output_type": "execute_result"
    }
   ],
   "source": [
    "answers = {} # создадим словарь для ответов\n",
    "\n",
    "# тут другие ваши предобработки колонок например:\n",
    "\n",
    "#the time given in the dataset is in string format.\n",
    "#So we need to change this in datetime format\n",
    "# As far as in requests we need only months, it will be enouth to have separate month column.\n",
    "\n",
    "from datetime import datetime # import date prosessing means\n",
    "dateFormatter = \"%m/%d/%Y\"    # detting date format\n",
    "\n",
    "data['month'] = data.release_date.apply(lambda x: datetime.strptime(str(x), dateFormatter).month)\n",
    "\n",
    "# for each instance of release_date processes date and define month\n",
    "\n",
    "# actor's names are listed with separator | in a single instance\n",
    "# so we need to distribute them into columns\n",
    "\n",
    "data.cast = data.cast.apply(lambda x: str(x).split('|'))\n",
    "\n",
    "\n",
    "# director's names are listed with separator | in a single instance\n",
    "# so we need to distribute them into columns\n",
    "\n",
    "data.director = data.director.apply(lambda x: str(x).split('|'))\n",
    "\n",
    "\n",
    "# production studio's names are listed with separator | in a single instance\n",
    "# so we need to distribute them into columns\n",
    "\n",
    "data.production_companies = data.production_companies.apply(lambda x: str(x).split('|'))\n",
    "\n",
    "\n",
    "# genres definitions are listed with separator | in a single instance\n",
    "# so we need to distribute them into columns\n",
    "\n",
    "data.genres = data.genres.apply(lambda x: str(x).split('|'))\n",
    "\n",
    "\n",
    "#dataset has no value that describes profit\n",
    "# so we need to calculate profit and add it to the dataset\n",
    "data['profit'] = data['revenue'] - data['budget']\n",
    "\n",
    "\n",
    "data.sample(5)"
   ]
  },
  {
   "cell_type": "markdown",
   "metadata": {
    "colab_type": "text",
    "id": "YxZaH-nPVp-L"
   },
   "source": [
    "# 1. У какого фильма из списка самый большой бюджет?"
   ]
  },
  {
   "cell_type": "markdown",
   "metadata": {
    "colab_type": "text",
    "id": "Nd-G5gX6Vp-M"
   },
   "source": [
    "Использовать варианты ответов в коде решения запрещено.    \n",
    "Вы думаете и в жизни у вас будут варианты ответов?)"
   ]
  },
  {
   "cell_type": "code",
   "execution_count": 123,
   "metadata": {
    "colab": {},
    "colab_type": "code",
    "id": "uVnXAY5RVp-O"
   },
   "outputs": [
    {
     "data": {
      "text/plain": [
       "'Several tasks with correct results and special preprocessing are provided lower in the notebook in special section'"
      ]
     },
     "execution_count": 123,
     "metadata": {},
     "output_type": "execute_result"
    }
   ],
   "source": [
    "# в словарь вставляем номер вопроса и ваш ответ на него\n",
    "# Пример: \n",
    "answers['1'] = 'Pirates of the Caribbean: On Stranger Tides (tt1298650)'\n",
    "# + \n",
    "\n",
    "\"\"\"Several tasks with correct results and special preprocessing are provided lower in the notebook in special section\"\"\""
   ]
  },
  {
   "cell_type": "code",
   "execution_count": 258,
   "metadata": {
    "colab": {},
    "colab_type": "code",
    "id": "dZwb3m28Vp-S"
   },
   "outputs": [
    {
     "data": {
      "text/html": [
       "<div>\n",
       "<style scoped>\n",
       "    .dataframe tbody tr th:only-of-type {\n",
       "        vertical-align: middle;\n",
       "    }\n",
       "\n",
       "    .dataframe tbody tr th {\n",
       "        vertical-align: top;\n",
       "    }\n",
       "\n",
       "    .dataframe thead th {\n",
       "        text-align: right;\n",
       "    }\n",
       "</style>\n",
       "<table border=\"1\" class=\"dataframe\">\n",
       "  <thead>\n",
       "    <tr style=\"text-align: right;\">\n",
       "      <th></th>\n",
       "      <th>imdb_id</th>\n",
       "      <th>original_title</th>\n",
       "    </tr>\n",
       "  </thead>\n",
       "  <tbody>\n",
       "    <tr>\n",
       "      <th>723</th>\n",
       "      <td>tt1298650</td>\n",
       "      <td>Pirates of the Caribbean: On Stranger Tides</td>\n",
       "    </tr>\n",
       "  </tbody>\n",
       "</table>\n",
       "</div>"
      ],
      "text/plain": [
       "       imdb_id                               original_title\n",
       "723  tt1298650  Pirates of the Caribbean: On Stranger Tides"
      ]
     },
     "execution_count": 258,
     "metadata": {},
     "output_type": "execute_result"
    }
   ],
   "source": [
    "data_great = data.sort_values(['budget'],ascending = False).head(1)\n",
    "data_great[['imdb_id','original_title']]"
   ]
  },
  {
   "cell_type": "markdown",
   "metadata": {
    "colab_type": "text",
    "id": "K7L3nbRXVp-X"
   },
   "source": [
    "ВАРИАНТ 2"
   ]
  },
  {
   "cell_type": "code",
   "execution_count": 195,
   "metadata": {
    "colab": {},
    "colab_type": "code",
    "id": "OGaoQI7rVp-X"
   },
   "outputs": [
    {
     "data": {
      "text/html": [
       "<div>\n",
       "<style scoped>\n",
       "    .dataframe tbody tr th:only-of-type {\n",
       "        vertical-align: middle;\n",
       "    }\n",
       "\n",
       "    .dataframe tbody tr th {\n",
       "        vertical-align: top;\n",
       "    }\n",
       "\n",
       "    .dataframe thead th {\n",
       "        text-align: right;\n",
       "    }\n",
       "</style>\n",
       "<table border=\"1\" class=\"dataframe\">\n",
       "  <thead>\n",
       "    <tr style=\"text-align: right;\">\n",
       "      <th></th>\n",
       "      <th>imdb_id</th>\n",
       "      <th>original_title</th>\n",
       "    </tr>\n",
       "  </thead>\n",
       "  <tbody>\n",
       "    <tr>\n",
       "      <th>723</th>\n",
       "      <td>tt1298650</td>\n",
       "      <td>Pirates of the Caribbean: On Stranger Tides</td>\n",
       "    </tr>\n",
       "  </tbody>\n",
       "</table>\n",
       "</div>"
      ],
      "text/plain": [
       "       imdb_id                               original_title\n",
       "723  tt1298650  Pirates of the Caribbean: On Stranger Tides"
      ]
     },
     "execution_count": 195,
     "metadata": {},
     "output_type": "execute_result"
    }
   ],
   "source": [
    "# another way to solve this task\n",
    "\n",
    "budget_great = data.loc[(data.budget == data.budget.max())]\n",
    "budget_great[['imdb_id','original_title']]"
   ]
  },
  {
   "cell_type": "markdown",
   "metadata": {
    "colab_type": "text",
    "id": "FNRbbI3vVp-c"
   },
   "source": [
    "# 2. Какой из фильмов самый длительный (в минутах)?"
   ]
  },
  {
   "cell_type": "code",
   "execution_count": 124,
   "metadata": {
    "colab": {},
    "colab_type": "code",
    "id": "vHAoEXNTVp-d"
   },
   "outputs": [],
   "source": [
    "\n",
    "answers['2'] = 'Gods and Generals (tt0279111)'\n",
    "# +"
   ]
  },
  {
   "cell_type": "code",
   "execution_count": 225,
   "metadata": {
    "colab": {},
    "colab_type": "code",
    "id": "ot-VX2XrVp-g"
   },
   "outputs": [
    {
     "data": {
      "text/html": [
       "<div>\n",
       "<style scoped>\n",
       "    .dataframe tbody tr th:only-of-type {\n",
       "        vertical-align: middle;\n",
       "    }\n",
       "\n",
       "    .dataframe tbody tr th {\n",
       "        vertical-align: top;\n",
       "    }\n",
       "\n",
       "    .dataframe thead th {\n",
       "        text-align: right;\n",
       "    }\n",
       "</style>\n",
       "<table border=\"1\" class=\"dataframe\">\n",
       "  <thead>\n",
       "    <tr style=\"text-align: right;\">\n",
       "      <th></th>\n",
       "      <th>imdb_id</th>\n",
       "      <th>original_title</th>\n",
       "    </tr>\n",
       "  </thead>\n",
       "  <tbody>\n",
       "    <tr>\n",
       "      <th>1157</th>\n",
       "      <td>tt0279111</td>\n",
       "      <td>Gods and Generals</td>\n",
       "    </tr>\n",
       "  </tbody>\n",
       "</table>\n",
       "</div>"
      ],
      "text/plain": [
       "        imdb_id     original_title\n",
       "1157  tt0279111  Gods and Generals"
      ]
     },
     "execution_count": 225,
     "metadata": {},
     "output_type": "execute_result"
    }
   ],
   "source": [
    "data_long = data.loc[data.runtime == data.runtime.max()].head(1)\n",
    "data_long[['imdb_id','original_title']]"
   ]
  },
  {
   "cell_type": "markdown",
   "metadata": {
    "colab_type": "text",
    "id": "bapLlpW8Vp-k"
   },
   "source": [
    "# 3. Какой из фильмов самый короткий (в минутах)?\n",
    "\n",
    "\n",
    "\n"
   ]
  },
  {
   "cell_type": "code",
   "execution_count": 125,
   "metadata": {
    "colab": {},
    "colab_type": "code",
    "id": "YBxaSHuAVp-l"
   },
   "outputs": [
    {
     "data": {
      "text/html": [
       "<div>\n",
       "<style scoped>\n",
       "    .dataframe tbody tr th:only-of-type {\n",
       "        vertical-align: middle;\n",
       "    }\n",
       "\n",
       "    .dataframe tbody tr th {\n",
       "        vertical-align: top;\n",
       "    }\n",
       "\n",
       "    .dataframe thead th {\n",
       "        text-align: right;\n",
       "    }\n",
       "</style>\n",
       "<table border=\"1\" class=\"dataframe\">\n",
       "  <thead>\n",
       "    <tr style=\"text-align: right;\">\n",
       "      <th></th>\n",
       "      <th>imdb_id</th>\n",
       "      <th>original_title</th>\n",
       "    </tr>\n",
       "  </thead>\n",
       "  <tbody>\n",
       "    <tr>\n",
       "      <th>768</th>\n",
       "      <td>tt1449283</td>\n",
       "      <td>Winnie the Pooh</td>\n",
       "    </tr>\n",
       "  </tbody>\n",
       "</table>\n",
       "</div>"
      ],
      "text/plain": [
       "       imdb_id   original_title\n",
       "768  tt1449283  Winnie the Pooh"
      ]
     },
     "execution_count": 125,
     "metadata": {},
     "output_type": "execute_result"
    }
   ],
   "source": [
    "answers['3'] = 'Winnie the Pooh (tt1449283)'\n",
    "# +\n",
    "\n",
    "data_short = data.loc[data.runtime == data.runtime.min()].head(1)\n",
    "data_short[['imdb_id','original_title']]"
   ]
  },
  {
   "cell_type": "markdown",
   "metadata": {
    "colab_type": "text",
    "id": "TfQbxbfNVp-p"
   },
   "source": [
    "# 4. Какова средняя длительность фильмов?\n"
   ]
  },
  {
   "cell_type": "code",
   "execution_count": 126,
   "metadata": {
    "colab": {},
    "colab_type": "code",
    "id": "5K6dKZYVVp-q"
   },
   "outputs": [
    {
     "name": "stdout",
     "output_type": "stream",
     "text": [
      "109.6585494970884\n"
     ]
    }
   ],
   "source": [
    "answers['4'] = '110'\n",
    "# +\n",
    "\n",
    "mean_time = data['runtime'].mean()\n",
    "print(mean_time)"
   ]
  },
  {
   "cell_type": "markdown",
   "metadata": {
    "colab_type": "text",
    "id": "r5TvbnT_Vp-u"
   },
   "source": [
    "# 5. Каково медианное значение длительности фильмов? "
   ]
  },
  {
   "cell_type": "code",
   "execution_count": 127,
   "metadata": {
    "colab": {},
    "colab_type": "code",
    "id": "iBROplKnVp-v"
   },
   "outputs": [
    {
     "name": "stdout",
     "output_type": "stream",
     "text": [
      "107.0\n"
     ]
    }
   ],
   "source": [
    "answers['5'] = '107'\n",
    "# +\n",
    "\n",
    "median_time = data['runtime'].median()\n",
    "print(median_time)"
   ]
  },
  {
   "cell_type": "markdown",
   "metadata": {
    "colab_type": "text",
    "id": "39P-deDSVp-y"
   },
   "source": [
    "# 6. Какой самый прибыльный фильм?\n",
    "#### Внимание! Здесь и далее под «прибылью» или «убытками» понимается разность между сборами и бюджетом фильма. (прибыль = сборы - бюджет) в нашем датасете это будет (profit = revenue - budget) "
   ]
  },
  {
   "cell_type": "code",
   "execution_count": 128,
   "metadata": {
    "colab": {},
    "colab_type": "code",
    "id": "UYZh4T9WVp-y"
   },
   "outputs": [
    {
     "data": {
      "text/html": [
       "<div>\n",
       "<style scoped>\n",
       "    .dataframe tbody tr th:only-of-type {\n",
       "        vertical-align: middle;\n",
       "    }\n",
       "\n",
       "    .dataframe tbody tr th {\n",
       "        vertical-align: top;\n",
       "    }\n",
       "\n",
       "    .dataframe thead th {\n",
       "        text-align: right;\n",
       "    }\n",
       "</style>\n",
       "<table border=\"1\" class=\"dataframe\">\n",
       "  <thead>\n",
       "    <tr style=\"text-align: right;\">\n",
       "      <th></th>\n",
       "      <th>imdb_id</th>\n",
       "      <th>original_title</th>\n",
       "    </tr>\n",
       "  </thead>\n",
       "  <tbody>\n",
       "    <tr>\n",
       "      <th>239</th>\n",
       "      <td>tt0499549</td>\n",
       "      <td>Avatar</td>\n",
       "    </tr>\n",
       "  </tbody>\n",
       "</table>\n",
       "</div>"
      ],
      "text/plain": [
       "       imdb_id original_title\n",
       "239  tt0499549         Avatar"
      ]
     },
     "execution_count": 128,
     "metadata": {},
     "output_type": "execute_result"
    }
   ],
   "source": [
    "answers['6'] = 'Avatar (tt0499549)'\n",
    "# +\n",
    "\n",
    "film_rent_higher = data.loc[data.profit == data.profit.max()].head(1)\n",
    "film_rent_higher[['imdb_id','original_title']]"
   ]
  },
  {
   "cell_type": "markdown",
   "metadata": {
    "colab_type": "text",
    "id": "M99JmIX4Vp-2"
   },
   "source": [
    "# 7. Какой фильм самый убыточный? "
   ]
  },
  {
   "cell_type": "code",
   "execution_count": 129,
   "metadata": {
    "colab": {},
    "colab_type": "code",
    "id": "w-D2m4XPVp-3"
   },
   "outputs": [
    {
     "data": {
      "text/html": [
       "<div>\n",
       "<style scoped>\n",
       "    .dataframe tbody tr th:only-of-type {\n",
       "        vertical-align: middle;\n",
       "    }\n",
       "\n",
       "    .dataframe tbody tr th {\n",
       "        vertical-align: top;\n",
       "    }\n",
       "\n",
       "    .dataframe thead th {\n",
       "        text-align: right;\n",
       "    }\n",
       "</style>\n",
       "<table border=\"1\" class=\"dataframe\">\n",
       "  <thead>\n",
       "    <tr style=\"text-align: right;\">\n",
       "      <th></th>\n",
       "      <th>imdb_id</th>\n",
       "      <th>original_title</th>\n",
       "    </tr>\n",
       "  </thead>\n",
       "  <tbody>\n",
       "    <tr>\n",
       "      <th>1245</th>\n",
       "      <td>tt1210819</td>\n",
       "      <td>The Lone Ranger</td>\n",
       "    </tr>\n",
       "  </tbody>\n",
       "</table>\n",
       "</div>"
      ],
      "text/plain": [
       "        imdb_id   original_title\n",
       "1245  tt1210819  The Lone Ranger"
      ]
     },
     "execution_count": 129,
     "metadata": {},
     "output_type": "execute_result"
    }
   ],
   "source": [
    "answers['7'] = 'The Lone Ranger (tt1210819)'\n",
    "# +\n",
    "\n",
    "film_nonrent_lower = data.loc[data.profit == data.profit.min()].head(1)\n",
    "film_nonrent_lower[['imdb_id','original_title']]"
   ]
  },
  {
   "cell_type": "markdown",
   "metadata": {
    "colab_type": "text",
    "id": "wEOM5ERVVp-6"
   },
   "source": [
    "# 8. У скольких фильмов из датасета объем сборов оказался выше бюджета?"
   ]
  },
  {
   "cell_type": "code",
   "execution_count": 130,
   "metadata": {
    "colab": {},
    "colab_type": "code",
    "id": "y00_7HD6Vp-7"
   },
   "outputs": [
    {
     "data": {
      "text/plain": [
       "1478"
      ]
     },
     "execution_count": 130,
     "metadata": {},
     "output_type": "execute_result"
    }
   ],
   "source": [
    "answers['8'] = '1478'\n",
    "# +\n",
    "\n",
    "film_rent_num = data.loc[data.profit >= 0]\n",
    "film_rent_num.imdb_id.nunique()"
   ]
  },
  {
   "cell_type": "markdown",
   "metadata": {
    "colab_type": "text",
    "id": "xhpspA9KVp_A"
   },
   "source": [
    "# 9. Какой фильм оказался самым кассовым в 2008 году?"
   ]
  },
  {
   "cell_type": "code",
   "execution_count": 131,
   "metadata": {
    "colab": {},
    "colab_type": "code",
    "id": "MoUyQr9RVp_B"
   },
   "outputs": [
    {
     "data": {
      "text/html": [
       "<div>\n",
       "<style scoped>\n",
       "    .dataframe tbody tr th:only-of-type {\n",
       "        vertical-align: middle;\n",
       "    }\n",
       "\n",
       "    .dataframe tbody tr th {\n",
       "        vertical-align: top;\n",
       "    }\n",
       "\n",
       "    .dataframe thead th {\n",
       "        text-align: right;\n",
       "    }\n",
       "</style>\n",
       "<table border=\"1\" class=\"dataframe\">\n",
       "  <thead>\n",
       "    <tr style=\"text-align: right;\">\n",
       "      <th></th>\n",
       "      <th>imdb_id</th>\n",
       "      <th>original_title</th>\n",
       "    </tr>\n",
       "  </thead>\n",
       "  <tbody>\n",
       "    <tr>\n",
       "      <th>599</th>\n",
       "      <td>tt0468569</td>\n",
       "      <td>The Dark Knight</td>\n",
       "    </tr>\n",
       "  </tbody>\n",
       "</table>\n",
       "</div>"
      ],
      "text/plain": [
       "       imdb_id   original_title\n",
       "599  tt0468569  The Dark Knight"
      ]
     },
     "execution_count": 131,
     "metadata": {},
     "output_type": "execute_result"
    }
   ],
   "source": [
    "answers['9'] = 'The Dark Knight (tt0468569)'\n",
    "# +\n",
    "\n",
    "film_of_the_2008 = data.loc[data.release_year == 2008].sort_values(['revenue'], ascending=False).head(1)\n",
    "film_of_the_2008[['imdb_id','original_title']]"
   ]
  },
  {
   "cell_type": "markdown",
   "metadata": {
    "colab_type": "text",
    "id": "Zi4hDKidVp_F"
   },
   "source": [
    "# 10. Самый убыточный фильм за период с 2012 по 2014 г. (включительно)?\n"
   ]
  },
  {
   "cell_type": "code",
   "execution_count": 132,
   "metadata": {
    "colab": {},
    "colab_type": "code",
    "id": "XqyRmufJVp_F"
   },
   "outputs": [
    {
     "data": {
      "text/html": [
       "<div>\n",
       "<style scoped>\n",
       "    .dataframe tbody tr th:only-of-type {\n",
       "        vertical-align: middle;\n",
       "    }\n",
       "\n",
       "    .dataframe tbody tr th {\n",
       "        vertical-align: top;\n",
       "    }\n",
       "\n",
       "    .dataframe thead th {\n",
       "        text-align: right;\n",
       "    }\n",
       "</style>\n",
       "<table border=\"1\" class=\"dataframe\">\n",
       "  <thead>\n",
       "    <tr style=\"text-align: right;\">\n",
       "      <th></th>\n",
       "      <th>imdb_id</th>\n",
       "      <th>original_title</th>\n",
       "    </tr>\n",
       "  </thead>\n",
       "  <tbody>\n",
       "    <tr>\n",
       "      <th>1245</th>\n",
       "      <td>tt1210819</td>\n",
       "      <td>The Lone Ranger</td>\n",
       "    </tr>\n",
       "  </tbody>\n",
       "</table>\n",
       "</div>"
      ],
      "text/plain": [
       "        imdb_id   original_title\n",
       "1245  tt1210819  The Lone Ranger"
      ]
     },
     "execution_count": 132,
     "metadata": {},
     "output_type": "execute_result"
    }
   ],
   "source": [
    "answers['10'] = 'The Lone Ranger (tt1210819)'\n",
    "# +\n",
    "\n",
    "bad_film = data.loc[(data.release_year >= 2012) & (data.release_year <= 2014)].sort_values(['profit']).head(1)\n",
    "bad_film[['imdb_id','original_title']]"
   ]
  },
  {
   "cell_type": "markdown",
   "metadata": {
    "colab_type": "text",
    "id": "EA7Sa9dkVp_I"
   },
   "source": [
    "# 11. Какого жанра фильмов больше всего?"
   ]
  },
  {
   "cell_type": "code",
   "execution_count": 133,
   "metadata": {
    "colab": {},
    "colab_type": "code",
    "id": "zsJAwJ8QVp_J"
   },
   "outputs": [
    {
     "name": "stdout",
     "output_type": "stream",
     "text": [
      "Drama              782\n",
      "Comedy             683\n",
      "Thriller           596\n",
      "Action             582\n",
      "Adventure          415\n",
      "Crime              315\n",
      "Romance            308\n",
      "Family             260\n",
      "Science Fiction    248\n",
      "Fantasy            222\n",
      "Horror             176\n",
      "Mystery            168\n",
      "Animation          139\n",
      "Music               64\n",
      "History             62\n",
      "War                 58\n",
      "Western             19\n",
      "Documentary          8\n",
      "Foreign              2\n",
      "Name: genres, dtype: int64\n"
     ]
    }
   ],
   "source": [
    "# эту задачу тоже можно решать разными подходами, попробуй реализовать разные варианты\n",
    "# если будешь добавлять функцию - выноси ее в предобработку что в начале\n",
    "\n",
    "answers['11'] = 'Drama'\n",
    "# +\n",
    "data = data.explode('genres')\n",
    "favourite_genre = data.genres.value_counts()\n",
    "print(favourite_genre)"
   ]
  },
  {
   "cell_type": "markdown",
   "metadata": {
    "colab_type": "text",
    "id": "Ax6g2C8SVp_M"
   },
   "source": [
    "ВАРИАНТ 2"
   ]
  },
  {
   "cell_type": "code",
   "execution_count": 17,
   "metadata": {
    "colab": {},
    "colab_type": "code",
    "id": "otO3SbrSVp_N"
   },
   "outputs": [
    {
     "name": "stdout",
     "output_type": "stream",
     "text": [
      "genres\n",
      "Drama              782\n",
      "Comedy             683\n",
      "Thriller           596\n",
      "Action             582\n",
      "Adventure          415\n",
      "Crime              315\n",
      "Romance            308\n",
      "Family             260\n",
      "Science Fiction    248\n",
      "Fantasy            222\n",
      "Horror             176\n",
      "Mystery            168\n",
      "Animation          139\n",
      "Music               64\n",
      "History             62\n",
      "War                 58\n",
      "Western             19\n",
      "Documentary          8\n",
      "Foreign              2\n",
      "Name: imdb_id, dtype: int64\n"
     ]
    }
   ],
   "source": [
    "favourite_genre_1 = data.groupby(['genres'])['imdb_id'].nunique().sort_values(ascending=False)\n",
    "# favourite_genre_1 = data.groupby(['genres'])['imdb_id'].sum().sort_values().head(1)\n",
    "print(favourite_genre_1)"
   ]
  },
  {
   "cell_type": "markdown",
   "metadata": {
    "colab_type": "text",
    "id": "T9_bPWpkVp_Q"
   },
   "source": [
    "# 12. Фильмы какого жанра чаще всего становятся прибыльными? "
   ]
  },
  {
   "cell_type": "code",
   "execution_count": 134,
   "metadata": {
    "colab": {},
    "colab_type": "code",
    "id": "Tmt8MaK1Vp_R"
   },
   "outputs": [
    {
     "name": "stdout",
     "output_type": "stream",
     "text": [
      "Drama    560\n",
      "Name: genres, dtype: int64\n"
     ]
    }
   ],
   "source": [
    "answers['12'] = 'Drama'\n",
    "# +\n",
    "\n",
    "profit_genre = data.loc[data.profit >= 0]\n",
    "favourite_profit_genre = profit_genre.genres.value_counts().head(1)\n",
    "print(favourite_profit_genre)"
   ]
  },
  {
   "cell_type": "markdown",
   "metadata": {
    "colab_type": "text",
    "id": "0F23bgsDVp_U"
   },
   "source": [
    "# 13. У какого режиссера самые большие суммарные кассовые сборы?"
   ]
  },
  {
   "cell_type": "code",
   "execution_count": 135,
   "metadata": {
    "colab": {},
    "colab_type": "code",
    "id": "K6Z3J8ygVp_X"
   },
   "outputs": [
    {
     "name": "stdout",
     "output_type": "stream",
     "text": [
      "director\n",
      "Peter Jackson        17464735681\n",
      "Christopher Nolan    16196885522\n",
      "David Yates          13401099613\n",
      "J.J. Abrams          12805687973\n",
      "Michael Bay          12370445156\n",
      "Francis Lawrence     11443904006\n",
      "James Cameron        11160105130\n",
      "Gore Verbinski       10905898334\n",
      "Andrew Adamson       10526614990\n",
      "Steven Spielberg      9694351400\n",
      "Name: revenue, dtype: int64\n"
     ]
    }
   ],
   "source": [
    "answers['13'] = 'Peter Jackson'\n",
    "# +\n",
    "data = data.explode('director')\n",
    "great_director = data.groupby(['director'])['revenue'].sum().sort_values(ascending=False).head(10)\n",
    "print(great_director)"
   ]
  },
  {
   "cell_type": "markdown",
   "metadata": {
    "colab_type": "text",
    "id": "PsYC9FgRVp_a"
   },
   "source": [
    "# 14. Какой режисер снял больше всего фильмов в стиле Action?"
   ]
  },
  {
   "cell_type": "code",
   "execution_count": 136,
   "metadata": {
    "colab": {},
    "colab_type": "code",
    "id": "wd2M-wHeVp_b"
   },
   "outputs": [
    {
     "data": {
      "text/plain": [
       "Robert Rodriguez    9\n",
       "Name: director, dtype: int64"
      ]
     },
     "execution_count": 136,
     "metadata": {},
     "output_type": "execute_result"
    }
   ],
   "source": [
    "answers['14'] = 'Robert Rodriguez'\n",
    "# +\n",
    "\n",
    "data = data.explode('director')\n",
    "\n",
    "action_director_1 = data.loc[(data.genres.str.contains(\"Action\", na=False))]\n",
    "\n",
    "action_director_1.director.value_counts().head(1)\n"
   ]
  },
  {
   "cell_type": "markdown",
   "metadata": {
    "colab_type": "text",
    "id": "PQ0KciD7Vp_f"
   },
   "source": [
    "# 15. Фильмы с каким актером принесли самые высокие кассовые сборы в 2012 году? "
   ]
  },
  {
   "cell_type": "code",
   "execution_count": 137,
   "metadata": {
    "colab": {},
    "colab_type": "code",
    "id": "aga62oeKVp_g"
   },
   "outputs": [],
   "source": [
    "# see special section"
   ]
  },
  {
   "cell_type": "markdown",
   "metadata": {
    "colab_type": "text",
    "id": "mWHyyL7QVp_j"
   },
   "source": [
    "# 16. Какой актер снялся в большем количестве высокобюджетных фильмов?"
   ]
  },
  {
   "cell_type": "code",
   "execution_count": 139,
   "metadata": {
    "colab": {},
    "colab_type": "code",
    "id": "qQtmHKTFVp_k"
   },
   "outputs": [],
   "source": [
    "\n",
    "# see special section"
   ]
  },
  {
   "cell_type": "markdown",
   "metadata": {
    "colab_type": "text",
    "id": "NIh6AaW5Vp_n"
   },
   "source": [
    "# 17. В фильмах какого жанра больше всего снимался Nicolas Cage? "
   ]
  },
  {
   "cell_type": "code",
   "execution_count": 140,
   "metadata": {
    "colab": {},
    "colab_type": "code",
    "id": "H74SJDIBVp_n"
   },
   "outputs": [
    {
     "name": "stdout",
     "output_type": "stream",
     "text": [
      "Action    19\n",
      "Name: genres, dtype: int64\n"
     ]
    }
   ],
   "source": [
    "answers['17'] = 'Action'\n",
    "# +\n",
    "data = data.explode('genres')\n",
    "data = data.explode('cast')\n",
    "films_Cage = data.genres[data.cast.str.contains(\"Cage\",na=False)].value_counts().head(1)\n",
    "print(films_Cage)"
   ]
  },
  {
   "cell_type": "markdown",
   "metadata": {
    "colab_type": "text",
    "id": "RqOmPRfWVp_q"
   },
   "source": [
    "# 18. Самый убыточный фильм от Paramount Pictures"
   ]
  },
  {
   "cell_type": "code",
   "execution_count": 141,
   "metadata": {
    "colab": {},
    "colab_type": "code",
    "id": "9E_B0Y96Vp_r"
   },
   "outputs": [
    {
     "data": {
      "text/plain": [
       "925    K-19: The Widowmaker\n",
       "Name: original_title, dtype: object"
      ]
     },
     "execution_count": 141,
     "metadata": {},
     "output_type": "execute_result"
    }
   ],
   "source": [
    "answers['18'] = 'K-19: The Widowmaker'\n",
    "# +\n",
    "data = data.explode('production_companies')\n",
    "Para_fail = data.profit[data.production_companies == \"Paramount Pictures\"].min()\n",
    "data.loc[data.profit == Para_fail]['original_title'].head(1)"
   ]
  },
  {
   "cell_type": "markdown",
   "metadata": {
    "colab_type": "text",
    "id": "vS8Ur6ddVp_u"
   },
   "source": [
    "# 19. Какой год стал самым успешным по суммарным кассовым сборам?"
   ]
  },
  {
   "cell_type": "code",
   "execution_count": 142,
   "metadata": {
    "colab": {},
    "colab_type": "code",
    "id": "Dnbt4GdIVp_v"
   },
   "outputs": [
    {
     "name": "stdout",
     "output_type": "stream",
     "text": [
      "release_year\n",
      "2015    1437371386905\n",
      "Name: revenue, dtype: int64\n"
     ]
    }
   ],
   "source": [
    "answers['19'] = '2015'\n",
    "# +\n",
    "\n",
    "good_year_list = data.groupby(['release_year'])['revenue'].sum().sort_values(ascending=False).head(1)\n",
    "print(good_year_list)"
   ]
  },
  {
   "cell_type": "markdown",
   "metadata": {
    "colab_type": "text",
    "id": "JAzJh4QAVp_z"
   },
   "source": [
    "# 20. Какой самый прибыльный год для студии Warner Bros?"
   ]
  },
  {
   "cell_type": "code",
   "execution_count": 143,
   "metadata": {
    "colab": {},
    "colab_type": "code",
    "id": "wgVu02DEVp_0"
   },
   "outputs": [],
   "source": [
    " # see special section"
   ]
  },
  {
   "cell_type": "markdown",
   "metadata": {
    "colab_type": "text",
    "id": "8Im1S2HRVp_4"
   },
   "source": [
    "# 21. В каком месяце за все годы суммарно вышло больше всего фильмов?"
   ]
  },
  {
   "cell_type": "code",
   "execution_count": 144,
   "metadata": {
    "colab": {},
    "colab_type": "code",
    "id": "lev6TH7gVp_4"
   },
   "outputs": [
    {
     "name": "stdout",
     "output_type": "stream",
     "text": [
      "month\n",
      "9    227\n",
      "Name: imdb_id, dtype: int64\n"
     ]
    }
   ],
   "source": [
    "answers['21'] = '9 (сентябрь)'\n",
    "# +\n",
    "\n",
    "data['month'] = data.release_date.apply(lambda x: datetime.strptime(str(x), dateFormatter).month)\n",
    "good_month = data.groupby(['month'])['imdb_id'].nunique().sort_values(ascending=False).head(1)\n",
    "print(good_month)"
   ]
  },
  {
   "cell_type": "markdown",
   "metadata": {
    "colab_type": "text",
    "id": "uAJsZ_NeVp_7"
   },
   "source": [
    "# 22. Сколько суммарно вышло фильмов летом? (за июнь, июль, август)"
   ]
  },
  {
   "cell_type": "code",
   "execution_count": 145,
   "metadata": {
    "colab": {},
    "colab_type": "code",
    "id": "Aa-hEREoVp_8"
   },
   "outputs": [
    {
     "name": "stdout",
     "output_type": "stream",
     "text": [
      "imdb_id    450\n",
      "dtype: int64\n"
     ]
    }
   ],
   "source": [
    "answers['22'] = '450'\n",
    "# +\n",
    "\n",
    "summer = data.loc[(data.month == 6) | (data.month == 7) | (data.month == 8)].nunique().head(1)\n",
    "print(summer)"
   ]
  },
  {
   "cell_type": "markdown",
   "metadata": {
    "colab_type": "text",
    "id": "G94ppOY1VqAA"
   },
   "source": [
    "# 23. Для какого режиссера зима – самое продуктивное время года? "
   ]
  },
  {
   "cell_type": "code",
   "execution_count": 146,
   "metadata": {
    "colab": {},
    "colab_type": "code",
    "id": "RhNTsamuVqAB"
   },
   "outputs": [
    {
     "name": "stdout",
     "output_type": "stream",
     "text": [
      "director\n",
      "Peter Jackson    7\n",
      "Name: imdb_id, dtype: int64\n"
     ]
    }
   ],
   "source": [
    "answers['23'] = 'Peter Jackson'\n",
    "# +\n",
    "\n",
    "winter = data.loc[(data.month == 12) | (data.month == 1) | (data.month == 2)]\n",
    "\n",
    "winter_director = winter.groupby(['director'])['imdb_id'].nunique().sort_values(ascending=False).head(1)\n",
    "print(winter_director)"
   ]
  },
  {
   "cell_type": "markdown",
   "metadata": {
    "colab_type": "text",
    "id": "RBo0JVjVVqAF"
   },
   "source": [
    "# 24. Какая студия дает самые длинные названия своим фильмам по количеству символов?"
   ]
  },
  {
   "cell_type": "code",
   "execution_count": 147,
   "metadata": {
    "colab": {},
    "colab_type": "code",
    "id": "QRGS8L0iVqAG"
   },
   "outputs": [
    {
     "data": {
      "text/html": [
       "<div>\n",
       "<style scoped>\n",
       "    .dataframe tbody tr th:only-of-type {\n",
       "        vertical-align: middle;\n",
       "    }\n",
       "\n",
       "    .dataframe tbody tr th {\n",
       "        vertical-align: top;\n",
       "    }\n",
       "\n",
       "    .dataframe thead th {\n",
       "        text-align: right;\n",
       "    }\n",
       "</style>\n",
       "<table border=\"1\" class=\"dataframe\">\n",
       "  <thead>\n",
       "    <tr style=\"text-align: right;\">\n",
       "      <th></th>\n",
       "      <th>imdb_id</th>\n",
       "      <th>budget</th>\n",
       "      <th>revenue</th>\n",
       "      <th>original_title</th>\n",
       "      <th>cast</th>\n",
       "      <th>director</th>\n",
       "      <th>tagline</th>\n",
       "      <th>overview</th>\n",
       "      <th>runtime</th>\n",
       "      <th>genres</th>\n",
       "      <th>production_companies</th>\n",
       "      <th>release_date</th>\n",
       "      <th>vote_average</th>\n",
       "      <th>release_year</th>\n",
       "      <th>month</th>\n",
       "      <th>profit</th>\n",
       "      <th>title_length</th>\n",
       "    </tr>\n",
       "  </thead>\n",
       "  <tbody>\n",
       "    <tr>\n",
       "      <th>1448</th>\n",
       "      <td>tt0443453</td>\n",
       "      <td>18000000</td>\n",
       "      <td>261572744</td>\n",
       "      <td>Borat: Cultural Learnings of America for Make ...</td>\n",
       "      <td>Sacha Baron Cohen</td>\n",
       "      <td>Larry Charles</td>\n",
       "      <td>Come to Kazakhstan, it's nice!</td>\n",
       "      <td>Kazakh journalist Borat Sagdiyev travels to Am...</td>\n",
       "      <td>82</td>\n",
       "      <td>Comedy</td>\n",
       "      <td>Twentieth Century Fox Film Corporation</td>\n",
       "      <td>11/2/2006</td>\n",
       "      <td>6.4</td>\n",
       "      <td>2006</td>\n",
       "      <td>11</td>\n",
       "      <td>243572744</td>\n",
       "      <td>83</td>\n",
       "    </tr>\n",
       "    <tr>\n",
       "      <th>1448</th>\n",
       "      <td>tt0443453</td>\n",
       "      <td>18000000</td>\n",
       "      <td>261572744</td>\n",
       "      <td>Borat: Cultural Learnings of America for Make ...</td>\n",
       "      <td>Sacha Baron Cohen</td>\n",
       "      <td>Larry Charles</td>\n",
       "      <td>Come to Kazakhstan, it's nice!</td>\n",
       "      <td>Kazakh journalist Borat Sagdiyev travels to Am...</td>\n",
       "      <td>82</td>\n",
       "      <td>Comedy</td>\n",
       "      <td>Four By Two Productions</td>\n",
       "      <td>11/2/2006</td>\n",
       "      <td>6.4</td>\n",
       "      <td>2006</td>\n",
       "      <td>11</td>\n",
       "      <td>243572744</td>\n",
       "      <td>83</td>\n",
       "    </tr>\n",
       "    <tr>\n",
       "      <th>1448</th>\n",
       "      <td>tt0443453</td>\n",
       "      <td>18000000</td>\n",
       "      <td>261572744</td>\n",
       "      <td>Borat: Cultural Learnings of America for Make ...</td>\n",
       "      <td>Ken Davitian</td>\n",
       "      <td>Larry Charles</td>\n",
       "      <td>Come to Kazakhstan, it's nice!</td>\n",
       "      <td>Kazakh journalist Borat Sagdiyev travels to Am...</td>\n",
       "      <td>82</td>\n",
       "      <td>Comedy</td>\n",
       "      <td>Twentieth Century Fox Film Corporation</td>\n",
       "      <td>11/2/2006</td>\n",
       "      <td>6.4</td>\n",
       "      <td>2006</td>\n",
       "      <td>11</td>\n",
       "      <td>243572744</td>\n",
       "      <td>83</td>\n",
       "    </tr>\n",
       "    <tr>\n",
       "      <th>1448</th>\n",
       "      <td>tt0443453</td>\n",
       "      <td>18000000</td>\n",
       "      <td>261572744</td>\n",
       "      <td>Borat: Cultural Learnings of America for Make ...</td>\n",
       "      <td>Ken Davitian</td>\n",
       "      <td>Larry Charles</td>\n",
       "      <td>Come to Kazakhstan, it's nice!</td>\n",
       "      <td>Kazakh journalist Borat Sagdiyev travels to Am...</td>\n",
       "      <td>82</td>\n",
       "      <td>Comedy</td>\n",
       "      <td>Four By Two Productions</td>\n",
       "      <td>11/2/2006</td>\n",
       "      <td>6.4</td>\n",
       "      <td>2006</td>\n",
       "      <td>11</td>\n",
       "      <td>243572744</td>\n",
       "      <td>83</td>\n",
       "    </tr>\n",
       "    <tr>\n",
       "      <th>1448</th>\n",
       "      <td>tt0443453</td>\n",
       "      <td>18000000</td>\n",
       "      <td>261572744</td>\n",
       "      <td>Borat: Cultural Learnings of America for Make ...</td>\n",
       "      <td>Luenell</td>\n",
       "      <td>Larry Charles</td>\n",
       "      <td>Come to Kazakhstan, it's nice!</td>\n",
       "      <td>Kazakh journalist Borat Sagdiyev travels to Am...</td>\n",
       "      <td>82</td>\n",
       "      <td>Comedy</td>\n",
       "      <td>Twentieth Century Fox Film Corporation</td>\n",
       "      <td>11/2/2006</td>\n",
       "      <td>6.4</td>\n",
       "      <td>2006</td>\n",
       "      <td>11</td>\n",
       "      <td>243572744</td>\n",
       "      <td>83</td>\n",
       "    </tr>\n",
       "    <tr>\n",
       "      <th>1448</th>\n",
       "      <td>tt0443453</td>\n",
       "      <td>18000000</td>\n",
       "      <td>261572744</td>\n",
       "      <td>Borat: Cultural Learnings of America for Make ...</td>\n",
       "      <td>Luenell</td>\n",
       "      <td>Larry Charles</td>\n",
       "      <td>Come to Kazakhstan, it's nice!</td>\n",
       "      <td>Kazakh journalist Borat Sagdiyev travels to Am...</td>\n",
       "      <td>82</td>\n",
       "      <td>Comedy</td>\n",
       "      <td>Four By Two Productions</td>\n",
       "      <td>11/2/2006</td>\n",
       "      <td>6.4</td>\n",
       "      <td>2006</td>\n",
       "      <td>11</td>\n",
       "      <td>243572744</td>\n",
       "      <td>83</td>\n",
       "    </tr>\n",
       "    <tr>\n",
       "      <th>1448</th>\n",
       "      <td>tt0443453</td>\n",
       "      <td>18000000</td>\n",
       "      <td>261572744</td>\n",
       "      <td>Borat: Cultural Learnings of America for Make ...</td>\n",
       "      <td>Pamela Anderson</td>\n",
       "      <td>Larry Charles</td>\n",
       "      <td>Come to Kazakhstan, it's nice!</td>\n",
       "      <td>Kazakh journalist Borat Sagdiyev travels to Am...</td>\n",
       "      <td>82</td>\n",
       "      <td>Comedy</td>\n",
       "      <td>Twentieth Century Fox Film Corporation</td>\n",
       "      <td>11/2/2006</td>\n",
       "      <td>6.4</td>\n",
       "      <td>2006</td>\n",
       "      <td>11</td>\n",
       "      <td>243572744</td>\n",
       "      <td>83</td>\n",
       "    </tr>\n",
       "    <tr>\n",
       "      <th>1448</th>\n",
       "      <td>tt0443453</td>\n",
       "      <td>18000000</td>\n",
       "      <td>261572744</td>\n",
       "      <td>Borat: Cultural Learnings of America for Make ...</td>\n",
       "      <td>Pamela Anderson</td>\n",
       "      <td>Larry Charles</td>\n",
       "      <td>Come to Kazakhstan, it's nice!</td>\n",
       "      <td>Kazakh journalist Borat Sagdiyev travels to Am...</td>\n",
       "      <td>82</td>\n",
       "      <td>Comedy</td>\n",
       "      <td>Four By Two Productions</td>\n",
       "      <td>11/2/2006</td>\n",
       "      <td>6.4</td>\n",
       "      <td>2006</td>\n",
       "      <td>11</td>\n",
       "      <td>243572744</td>\n",
       "      <td>83</td>\n",
       "    </tr>\n",
       "    <tr>\n",
       "      <th>1448</th>\n",
       "      <td>tt0443453</td>\n",
       "      <td>18000000</td>\n",
       "      <td>261572744</td>\n",
       "      <td>Borat: Cultural Learnings of America for Make ...</td>\n",
       "      <td>Bob Barr</td>\n",
       "      <td>Larry Charles</td>\n",
       "      <td>Come to Kazakhstan, it's nice!</td>\n",
       "      <td>Kazakh journalist Borat Sagdiyev travels to Am...</td>\n",
       "      <td>82</td>\n",
       "      <td>Comedy</td>\n",
       "      <td>Twentieth Century Fox Film Corporation</td>\n",
       "      <td>11/2/2006</td>\n",
       "      <td>6.4</td>\n",
       "      <td>2006</td>\n",
       "      <td>11</td>\n",
       "      <td>243572744</td>\n",
       "      <td>83</td>\n",
       "    </tr>\n",
       "    <tr>\n",
       "      <th>1448</th>\n",
       "      <td>tt0443453</td>\n",
       "      <td>18000000</td>\n",
       "      <td>261572744</td>\n",
       "      <td>Borat: Cultural Learnings of America for Make ...</td>\n",
       "      <td>Bob Barr</td>\n",
       "      <td>Larry Charles</td>\n",
       "      <td>Come to Kazakhstan, it's nice!</td>\n",
       "      <td>Kazakh journalist Borat Sagdiyev travels to Am...</td>\n",
       "      <td>82</td>\n",
       "      <td>Comedy</td>\n",
       "      <td>Four By Two Productions</td>\n",
       "      <td>11/2/2006</td>\n",
       "      <td>6.4</td>\n",
       "      <td>2006</td>\n",
       "      <td>11</td>\n",
       "      <td>243572744</td>\n",
       "      <td>83</td>\n",
       "    </tr>\n",
       "  </tbody>\n",
       "</table>\n",
       "</div>"
      ],
      "text/plain": [
       "        imdb_id    budget    revenue  \\\n",
       "1448  tt0443453  18000000  261572744   \n",
       "1448  tt0443453  18000000  261572744   \n",
       "1448  tt0443453  18000000  261572744   \n",
       "1448  tt0443453  18000000  261572744   \n",
       "1448  tt0443453  18000000  261572744   \n",
       "1448  tt0443453  18000000  261572744   \n",
       "1448  tt0443453  18000000  261572744   \n",
       "1448  tt0443453  18000000  261572744   \n",
       "1448  tt0443453  18000000  261572744   \n",
       "1448  tt0443453  18000000  261572744   \n",
       "\n",
       "                                         original_title               cast  \\\n",
       "1448  Borat: Cultural Learnings of America for Make ...  Sacha Baron Cohen   \n",
       "1448  Borat: Cultural Learnings of America for Make ...  Sacha Baron Cohen   \n",
       "1448  Borat: Cultural Learnings of America for Make ...       Ken Davitian   \n",
       "1448  Borat: Cultural Learnings of America for Make ...       Ken Davitian   \n",
       "1448  Borat: Cultural Learnings of America for Make ...            Luenell   \n",
       "1448  Borat: Cultural Learnings of America for Make ...            Luenell   \n",
       "1448  Borat: Cultural Learnings of America for Make ...    Pamela Anderson   \n",
       "1448  Borat: Cultural Learnings of America for Make ...    Pamela Anderson   \n",
       "1448  Borat: Cultural Learnings of America for Make ...           Bob Barr   \n",
       "1448  Borat: Cultural Learnings of America for Make ...           Bob Barr   \n",
       "\n",
       "           director                         tagline  \\\n",
       "1448  Larry Charles  Come to Kazakhstan, it's nice!   \n",
       "1448  Larry Charles  Come to Kazakhstan, it's nice!   \n",
       "1448  Larry Charles  Come to Kazakhstan, it's nice!   \n",
       "1448  Larry Charles  Come to Kazakhstan, it's nice!   \n",
       "1448  Larry Charles  Come to Kazakhstan, it's nice!   \n",
       "1448  Larry Charles  Come to Kazakhstan, it's nice!   \n",
       "1448  Larry Charles  Come to Kazakhstan, it's nice!   \n",
       "1448  Larry Charles  Come to Kazakhstan, it's nice!   \n",
       "1448  Larry Charles  Come to Kazakhstan, it's nice!   \n",
       "1448  Larry Charles  Come to Kazakhstan, it's nice!   \n",
       "\n",
       "                                               overview  runtime  genres  \\\n",
       "1448  Kazakh journalist Borat Sagdiyev travels to Am...       82  Comedy   \n",
       "1448  Kazakh journalist Borat Sagdiyev travels to Am...       82  Comedy   \n",
       "1448  Kazakh journalist Borat Sagdiyev travels to Am...       82  Comedy   \n",
       "1448  Kazakh journalist Borat Sagdiyev travels to Am...       82  Comedy   \n",
       "1448  Kazakh journalist Borat Sagdiyev travels to Am...       82  Comedy   \n",
       "1448  Kazakh journalist Borat Sagdiyev travels to Am...       82  Comedy   \n",
       "1448  Kazakh journalist Borat Sagdiyev travels to Am...       82  Comedy   \n",
       "1448  Kazakh journalist Borat Sagdiyev travels to Am...       82  Comedy   \n",
       "1448  Kazakh journalist Borat Sagdiyev travels to Am...       82  Comedy   \n",
       "1448  Kazakh journalist Borat Sagdiyev travels to Am...       82  Comedy   \n",
       "\n",
       "                        production_companies release_date  vote_average  \\\n",
       "1448  Twentieth Century Fox Film Corporation    11/2/2006           6.4   \n",
       "1448                 Four By Two Productions    11/2/2006           6.4   \n",
       "1448  Twentieth Century Fox Film Corporation    11/2/2006           6.4   \n",
       "1448                 Four By Two Productions    11/2/2006           6.4   \n",
       "1448  Twentieth Century Fox Film Corporation    11/2/2006           6.4   \n",
       "1448                 Four By Two Productions    11/2/2006           6.4   \n",
       "1448  Twentieth Century Fox Film Corporation    11/2/2006           6.4   \n",
       "1448                 Four By Two Productions    11/2/2006           6.4   \n",
       "1448  Twentieth Century Fox Film Corporation    11/2/2006           6.4   \n",
       "1448                 Four By Two Productions    11/2/2006           6.4   \n",
       "\n",
       "      release_year  month     profit  title_length  \n",
       "1448          2006     11  243572744            83  \n",
       "1448          2006     11  243572744            83  \n",
       "1448          2006     11  243572744            83  \n",
       "1448          2006     11  243572744            83  \n",
       "1448          2006     11  243572744            83  \n",
       "1448          2006     11  243572744            83  \n",
       "1448          2006     11  243572744            83  \n",
       "1448          2006     11  243572744            83  \n",
       "1448          2006     11  243572744            83  \n",
       "1448          2006     11  243572744            83  "
      ]
     },
     "execution_count": 147,
     "metadata": {},
     "output_type": "execute_result"
    }
   ],
   "source": [
    "answers['24'] = 'Four By Two Productions'\n",
    "# +\n",
    "\n",
    "\"\"\"it is worth noting that the answer itself is not directly given here\"\"\"\n",
    "\n",
    "\"\"\"it is required to select one relevant name\"\"\"\n",
    "\n",
    "# here a special preprocessing added: calculation of folm title length in symbols\n",
    "# this data is relatively special, it is not pretty important in general analysis, so it is added ad hoc\n",
    "data['title_length'] = data.original_title.apply(lambda x: len(str(x)))\n",
    "\n",
    "data_1 = data.title_length.max()\n",
    "\n",
    "data.loc[data.title_length == data_1]\n",
    "\n"
   ]
  },
  {
   "cell_type": "markdown",
   "metadata": {
    "colab_type": "text",
    "id": "9G0hbvR7VqAK"
   },
   "source": [
    "# 25. Описание фильмов какой студии в среднем самые длинные по количеству слов?"
   ]
  },
  {
   "cell_type": "code",
   "execution_count": 148,
   "metadata": {
    "colab": {},
    "colab_type": "code",
    "id": "Ge2GsLNxVqAK"
   },
   "outputs": [
    {
     "name": "stdout",
     "output_type": "stream",
     "text": [
      "production_companies\n",
      "Midnight Picture Show    175.0\n",
      "Name: descr_length, dtype: float64\n"
     ]
    }
   ],
   "source": [
    "answers['25'] = 'Midnight Picture Show'\n",
    "# +\n",
    "\n",
    "# here a special preprocessing added: calculation of folm title length in symbols\n",
    "# this data is relatively special, it is not pretty important in general analysis, so it is added ad hoc\n",
    "# the lenght of description in words is calculated regarding space symbols\n",
    "\n",
    "data['descr_length'] = data.overview.apply(lambda x: str(x).count(' ')+1)\n",
    "descr_long = data.groupby(['production_companies'])['descr_length'].mean().sort_values(ascending=False).head(1)\n",
    "\n",
    "print(descr_long)"
   ]
  },
  {
   "cell_type": "markdown",
   "metadata": {
    "colab_type": "text",
    "id": "FJ1AFt90VqAP"
   },
   "source": [
    "# 26. Какие фильмы входят в 1 процент лучших по рейтингу? \n",
    "по vote_average"
   ]
  },
  {
   "cell_type": "code",
   "execution_count": 149,
   "metadata": {
    "colab": {},
    "colab_type": "code",
    "id": "8qmJVq4CVqAQ"
   },
   "outputs": [
    {
     "data": {
      "text/html": [
       "<div>\n",
       "<style scoped>\n",
       "    .dataframe tbody tr th:only-of-type {\n",
       "        vertical-align: middle;\n",
       "    }\n",
       "\n",
       "    .dataframe tbody tr th {\n",
       "        vertical-align: top;\n",
       "    }\n",
       "\n",
       "    .dataframe thead th {\n",
       "        text-align: right;\n",
       "    }\n",
       "</style>\n",
       "<table border=\"1\" class=\"dataframe\">\n",
       "  <thead>\n",
       "    <tr style=\"text-align: right;\">\n",
       "      <th></th>\n",
       "      <th>imdb_id</th>\n",
       "      <th>budget</th>\n",
       "      <th>revenue</th>\n",
       "      <th>original_title</th>\n",
       "      <th>cast</th>\n",
       "      <th>director</th>\n",
       "      <th>tagline</th>\n",
       "      <th>overview</th>\n",
       "      <th>runtime</th>\n",
       "      <th>genres</th>\n",
       "      <th>production_companies</th>\n",
       "      <th>release_date</th>\n",
       "      <th>vote_average</th>\n",
       "      <th>release_year</th>\n",
       "      <th>month</th>\n",
       "      <th>profit</th>\n",
       "      <th>title_length</th>\n",
       "      <th>descr_length</th>\n",
       "    </tr>\n",
       "  </thead>\n",
       "  <tbody>\n",
       "    <tr>\n",
       "      <th>9</th>\n",
       "      <td>tt2096673</td>\n",
       "      <td>175000000</td>\n",
       "      <td>853708609</td>\n",
       "      <td>Inside Out</td>\n",
       "      <td>Amy Poehler</td>\n",
       "      <td>Pete Docter</td>\n",
       "      <td>Meet the little voices inside your head.</td>\n",
       "      <td>Growing up can be a bumpy road, and it's no ex...</td>\n",
       "      <td>94</td>\n",
       "      <td>Comedy</td>\n",
       "      <td>Walt Disney Pictures</td>\n",
       "      <td>6/9/2015</td>\n",
       "      <td>8.0</td>\n",
       "      <td>2015</td>\n",
       "      <td>6</td>\n",
       "      <td>678708609</td>\n",
       "      <td>10</td>\n",
       "      <td>112</td>\n",
       "    </tr>\n",
       "    <tr>\n",
       "      <th>9</th>\n",
       "      <td>tt2096673</td>\n",
       "      <td>175000000</td>\n",
       "      <td>853708609</td>\n",
       "      <td>Inside Out</td>\n",
       "      <td>Amy Poehler</td>\n",
       "      <td>Pete Docter</td>\n",
       "      <td>Meet the little voices inside your head.</td>\n",
       "      <td>Growing up can be a bumpy road, and it's no ex...</td>\n",
       "      <td>94</td>\n",
       "      <td>Comedy</td>\n",
       "      <td>Pixar Animation Studios</td>\n",
       "      <td>6/9/2015</td>\n",
       "      <td>8.0</td>\n",
       "      <td>2015</td>\n",
       "      <td>6</td>\n",
       "      <td>678708609</td>\n",
       "      <td>10</td>\n",
       "      <td>112</td>\n",
       "    </tr>\n",
       "    <tr>\n",
       "      <th>9</th>\n",
       "      <td>tt2096673</td>\n",
       "      <td>175000000</td>\n",
       "      <td>853708609</td>\n",
       "      <td>Inside Out</td>\n",
       "      <td>Amy Poehler</td>\n",
       "      <td>Pete Docter</td>\n",
       "      <td>Meet the little voices inside your head.</td>\n",
       "      <td>Growing up can be a bumpy road, and it's no ex...</td>\n",
       "      <td>94</td>\n",
       "      <td>Comedy</td>\n",
       "      <td>Walt Disney Studios Motion Pictures</td>\n",
       "      <td>6/9/2015</td>\n",
       "      <td>8.0</td>\n",
       "      <td>2015</td>\n",
       "      <td>6</td>\n",
       "      <td>678708609</td>\n",
       "      <td>10</td>\n",
       "      <td>112</td>\n",
       "    </tr>\n",
       "    <tr>\n",
       "      <th>9</th>\n",
       "      <td>tt2096673</td>\n",
       "      <td>175000000</td>\n",
       "      <td>853708609</td>\n",
       "      <td>Inside Out</td>\n",
       "      <td>Phyllis Smith</td>\n",
       "      <td>Pete Docter</td>\n",
       "      <td>Meet the little voices inside your head.</td>\n",
       "      <td>Growing up can be a bumpy road, and it's no ex...</td>\n",
       "      <td>94</td>\n",
       "      <td>Comedy</td>\n",
       "      <td>Walt Disney Pictures</td>\n",
       "      <td>6/9/2015</td>\n",
       "      <td>8.0</td>\n",
       "      <td>2015</td>\n",
       "      <td>6</td>\n",
       "      <td>678708609</td>\n",
       "      <td>10</td>\n",
       "      <td>112</td>\n",
       "    </tr>\n",
       "    <tr>\n",
       "      <th>9</th>\n",
       "      <td>tt2096673</td>\n",
       "      <td>175000000</td>\n",
       "      <td>853708609</td>\n",
       "      <td>Inside Out</td>\n",
       "      <td>Phyllis Smith</td>\n",
       "      <td>Pete Docter</td>\n",
       "      <td>Meet the little voices inside your head.</td>\n",
       "      <td>Growing up can be a bumpy road, and it's no ex...</td>\n",
       "      <td>94</td>\n",
       "      <td>Comedy</td>\n",
       "      <td>Pixar Animation Studios</td>\n",
       "      <td>6/9/2015</td>\n",
       "      <td>8.0</td>\n",
       "      <td>2015</td>\n",
       "      <td>6</td>\n",
       "      <td>678708609</td>\n",
       "      <td>10</td>\n",
       "      <td>112</td>\n",
       "    </tr>\n",
       "    <tr>\n",
       "      <th>...</th>\n",
       "      <td>...</td>\n",
       "      <td>...</td>\n",
       "      <td>...</td>\n",
       "      <td>...</td>\n",
       "      <td>...</td>\n",
       "      <td>...</td>\n",
       "      <td>...</td>\n",
       "      <td>...</td>\n",
       "      <td>...</td>\n",
       "      <td>...</td>\n",
       "      <td>...</td>\n",
       "      <td>...</td>\n",
       "      <td>...</td>\n",
       "      <td>...</td>\n",
       "      <td>...</td>\n",
       "      <td>...</td>\n",
       "      <td>...</td>\n",
       "      <td>...</td>\n",
       "    </tr>\n",
       "    <tr>\n",
       "      <th>1800</th>\n",
       "      <td>tt0209144</td>\n",
       "      <td>9000000</td>\n",
       "      <td>39723096</td>\n",
       "      <td>Memento</td>\n",
       "      <td>Mark Boone Junior</td>\n",
       "      <td>Christopher Nolan</td>\n",
       "      <td>Some memories are best forgotten.</td>\n",
       "      <td>Suffering short-term memory loss after a head ...</td>\n",
       "      <td>113</td>\n",
       "      <td>Thriller</td>\n",
       "      <td>I Remember Productions</td>\n",
       "      <td>10/11/2000</td>\n",
       "      <td>7.9</td>\n",
       "      <td>2000</td>\n",
       "      <td>10</td>\n",
       "      <td>30723096</td>\n",
       "      <td>7</td>\n",
       "      <td>78</td>\n",
       "    </tr>\n",
       "    <tr>\n",
       "      <th>1800</th>\n",
       "      <td>tt0209144</td>\n",
       "      <td>9000000</td>\n",
       "      <td>39723096</td>\n",
       "      <td>Memento</td>\n",
       "      <td>Russ Fega</td>\n",
       "      <td>Christopher Nolan</td>\n",
       "      <td>Some memories are best forgotten.</td>\n",
       "      <td>Suffering short-term memory loss after a head ...</td>\n",
       "      <td>113</td>\n",
       "      <td>Thriller</td>\n",
       "      <td>Summit Entertainment</td>\n",
       "      <td>10/11/2000</td>\n",
       "      <td>7.9</td>\n",
       "      <td>2000</td>\n",
       "      <td>10</td>\n",
       "      <td>30723096</td>\n",
       "      <td>7</td>\n",
       "      <td>78</td>\n",
       "    </tr>\n",
       "    <tr>\n",
       "      <th>1800</th>\n",
       "      <td>tt0209144</td>\n",
       "      <td>9000000</td>\n",
       "      <td>39723096</td>\n",
       "      <td>Memento</td>\n",
       "      <td>Russ Fega</td>\n",
       "      <td>Christopher Nolan</td>\n",
       "      <td>Some memories are best forgotten.</td>\n",
       "      <td>Suffering short-term memory loss after a head ...</td>\n",
       "      <td>113</td>\n",
       "      <td>Thriller</td>\n",
       "      <td>Newmarket Capital Group</td>\n",
       "      <td>10/11/2000</td>\n",
       "      <td>7.9</td>\n",
       "      <td>2000</td>\n",
       "      <td>10</td>\n",
       "      <td>30723096</td>\n",
       "      <td>7</td>\n",
       "      <td>78</td>\n",
       "    </tr>\n",
       "    <tr>\n",
       "      <th>1800</th>\n",
       "      <td>tt0209144</td>\n",
       "      <td>9000000</td>\n",
       "      <td>39723096</td>\n",
       "      <td>Memento</td>\n",
       "      <td>Russ Fega</td>\n",
       "      <td>Christopher Nolan</td>\n",
       "      <td>Some memories are best forgotten.</td>\n",
       "      <td>Suffering short-term memory loss after a head ...</td>\n",
       "      <td>113</td>\n",
       "      <td>Thriller</td>\n",
       "      <td>Team Todd</td>\n",
       "      <td>10/11/2000</td>\n",
       "      <td>7.9</td>\n",
       "      <td>2000</td>\n",
       "      <td>10</td>\n",
       "      <td>30723096</td>\n",
       "      <td>7</td>\n",
       "      <td>78</td>\n",
       "    </tr>\n",
       "    <tr>\n",
       "      <th>1800</th>\n",
       "      <td>tt0209144</td>\n",
       "      <td>9000000</td>\n",
       "      <td>39723096</td>\n",
       "      <td>Memento</td>\n",
       "      <td>Russ Fega</td>\n",
       "      <td>Christopher Nolan</td>\n",
       "      <td>Some memories are best forgotten.</td>\n",
       "      <td>Suffering short-term memory loss after a head ...</td>\n",
       "      <td>113</td>\n",
       "      <td>Thriller</td>\n",
       "      <td>I Remember Productions</td>\n",
       "      <td>10/11/2000</td>\n",
       "      <td>7.9</td>\n",
       "      <td>2000</td>\n",
       "      <td>10</td>\n",
       "      <td>30723096</td>\n",
       "      <td>7</td>\n",
       "      <td>78</td>\n",
       "    </tr>\n",
       "  </tbody>\n",
       "</table>\n",
       "<p>1335 rows × 18 columns</p>\n",
       "</div>"
      ],
      "text/plain": [
       "        imdb_id     budget    revenue original_title               cast  \\\n",
       "9     tt2096673  175000000  853708609     Inside Out        Amy Poehler   \n",
       "9     tt2096673  175000000  853708609     Inside Out        Amy Poehler   \n",
       "9     tt2096673  175000000  853708609     Inside Out        Amy Poehler   \n",
       "9     tt2096673  175000000  853708609     Inside Out      Phyllis Smith   \n",
       "9     tt2096673  175000000  853708609     Inside Out      Phyllis Smith   \n",
       "...         ...        ...        ...            ...                ...   \n",
       "1800  tt0209144    9000000   39723096        Memento  Mark Boone Junior   \n",
       "1800  tt0209144    9000000   39723096        Memento          Russ Fega   \n",
       "1800  tt0209144    9000000   39723096        Memento          Russ Fega   \n",
       "1800  tt0209144    9000000   39723096        Memento          Russ Fega   \n",
       "1800  tt0209144    9000000   39723096        Memento          Russ Fega   \n",
       "\n",
       "               director                                   tagline  \\\n",
       "9           Pete Docter  Meet the little voices inside your head.   \n",
       "9           Pete Docter  Meet the little voices inside your head.   \n",
       "9           Pete Docter  Meet the little voices inside your head.   \n",
       "9           Pete Docter  Meet the little voices inside your head.   \n",
       "9           Pete Docter  Meet the little voices inside your head.   \n",
       "...                 ...                                       ...   \n",
       "1800  Christopher Nolan         Some memories are best forgotten.   \n",
       "1800  Christopher Nolan         Some memories are best forgotten.   \n",
       "1800  Christopher Nolan         Some memories are best forgotten.   \n",
       "1800  Christopher Nolan         Some memories are best forgotten.   \n",
       "1800  Christopher Nolan         Some memories are best forgotten.   \n",
       "\n",
       "                                               overview  runtime    genres  \\\n",
       "9     Growing up can be a bumpy road, and it's no ex...       94    Comedy   \n",
       "9     Growing up can be a bumpy road, and it's no ex...       94    Comedy   \n",
       "9     Growing up can be a bumpy road, and it's no ex...       94    Comedy   \n",
       "9     Growing up can be a bumpy road, and it's no ex...       94    Comedy   \n",
       "9     Growing up can be a bumpy road, and it's no ex...       94    Comedy   \n",
       "...                                                 ...      ...       ...   \n",
       "1800  Suffering short-term memory loss after a head ...      113  Thriller   \n",
       "1800  Suffering short-term memory loss after a head ...      113  Thriller   \n",
       "1800  Suffering short-term memory loss after a head ...      113  Thriller   \n",
       "1800  Suffering short-term memory loss after a head ...      113  Thriller   \n",
       "1800  Suffering short-term memory loss after a head ...      113  Thriller   \n",
       "\n",
       "                     production_companies release_date  vote_average  \\\n",
       "9                    Walt Disney Pictures     6/9/2015           8.0   \n",
       "9                 Pixar Animation Studios     6/9/2015           8.0   \n",
       "9     Walt Disney Studios Motion Pictures     6/9/2015           8.0   \n",
       "9                    Walt Disney Pictures     6/9/2015           8.0   \n",
       "9                 Pixar Animation Studios     6/9/2015           8.0   \n",
       "...                                   ...          ...           ...   \n",
       "1800               I Remember Productions   10/11/2000           7.9   \n",
       "1800                 Summit Entertainment   10/11/2000           7.9   \n",
       "1800              Newmarket Capital Group   10/11/2000           7.9   \n",
       "1800                            Team Todd   10/11/2000           7.9   \n",
       "1800               I Remember Productions   10/11/2000           7.9   \n",
       "\n",
       "      release_year  month     profit  title_length  descr_length  \n",
       "9             2015      6  678708609            10           112  \n",
       "9             2015      6  678708609            10           112  \n",
       "9             2015      6  678708609            10           112  \n",
       "9             2015      6  678708609            10           112  \n",
       "9             2015      6  678708609            10           112  \n",
       "...            ...    ...        ...           ...           ...  \n",
       "1800          2000     10   30723096             7            78  \n",
       "1800          2000     10   30723096             7            78  \n",
       "1800          2000     10   30723096             7            78  \n",
       "1800          2000     10   30723096             7            78  \n",
       "1800          2000     10   30723096             7            78  \n",
       "\n",
       "[1335 rows x 18 columns]"
      ]
     },
     "execution_count": 149,
     "metadata": {},
     "output_type": "execute_result"
    }
   ],
   "source": [
    "answers['26'] = 'Inside Out, The Dark Knight, 12 Years a Slave'\n",
    "# +\n",
    "\n",
    "\"\"\"it is worth noting that the answer itself is not directly given here\"\"\"\n",
    "\n",
    "\"\"\"it was required to select relevant group of titles\"\"\"\n",
    "\n",
    "border = data.quantile(0.99, numeric_only=True)['vote_average']\n",
    "\n",
    "data.loc[data.vote_average >= border]"
   ]
  },
  {
   "cell_type": "markdown",
   "metadata": {
    "colab_type": "text",
    "id": "MdXsUXbCVqAV"
   },
   "source": [
    "# 27. Какие актеры чаще всего снимаются в одном фильме вместе?\n"
   ]
  },
  {
   "cell_type": "markdown",
   "metadata": {
    "colab_type": "text",
    "id": "4ymnxEVoVqAW"
   },
   "source": [
    "ВАРИАНТ 2"
   ]
  },
  {
   "cell_type": "markdown",
   "metadata": {
    "colab_type": "text",
    "id": "U0nONFnGVqAX"
   },
   "source": [
    "# Submission"
   ]
  },
  {
   "cell_type": "code",
   "execution_count": 150,
   "metadata": {
    "colab": {},
    "colab_type": "code",
    "id": "IfcaRO9-VqAX",
    "outputId": "0f132912-32bb-4196-c98c-abfbc4ad5a5f"
   },
   "outputs": [
    {
     "data": {
      "text/plain": [
       "[(('Daniel Radcliffe', 'Rupert Grint'), 8),\n",
       " (('Daniel Radcliffe', 'Emma Watson'), 8),\n",
       " (('Rupert Grint', 'Emma Watson'), 7),\n",
       " (('Ben Stiller', 'Owen Wilson'), 6),\n",
       " (('Johnny Depp', 'Helena Bonham Carter'), 6)]"
      ]
     },
     "execution_count": 150,
     "metadata": {},
     "output_type": "execute_result"
    }
   ],
   "source": [
    "answers['27'] = 'Daniel Radcliffe & Rupert Grint'\n",
    "# +\n",
    "\n",
    "data = pd.read_csv('movie_bd_v5.csv')\n",
    "from itertools import combinations\n",
    "\n",
    "pairs = Counter()\n",
    "\n",
    "for i in range(0,len(data)):\n",
    "    artists = data.cast[i].split('|')\n",
    "    for j in list(combinations(artists, 2)):\n",
    "        if j not in pairs:\n",
    "            pairs[j] = 1\n",
    "        else:\n",
    "            pairs[j] += 1\n",
    "\n",
    "pairs.most_common(5)"
   ]
  },
  {
   "cell_type": "code",
   "execution_count": null,
   "metadata": {
    "colab": {},
    "colab_type": "code",
    "id": "SiRmHPl8VqAd"
   },
   "outputs": [],
   "source": []
  },
  {
   "cell_type": "code",
   "execution_count": null,
   "metadata": {
    "colab": {},
    "colab_type": "code",
    "id": "uCfuTkRbVqAg"
   },
   "outputs": [],
   "source": []
  },
  {
   "cell_type": "code",
   "execution_count": 185,
   "metadata": {
    "colab": {},
    "colab_type": "code",
    "id": "Vwx3NrkSVqAl"
   },
   "outputs": [],
   "source": [
    "# special section"
   ]
  },
  {
   "cell_type": "code",
   "execution_count": null,
   "metadata": {},
   "outputs": [],
   "source": []
  },
  {
   "cell_type": "code",
   "execution_count": 151,
   "metadata": {},
   "outputs": [
    {
     "name": "stdout",
     "output_type": "stream",
     "text": [
      "cast\n",
      "Chris Hemsworth    2027450773\n",
      "Name: revenue, dtype: int64\n"
     ]
    }
   ],
   "source": [
    "answers['15'] = 'Chris Hemsworth'\n",
    "# +\n",
    "\n",
    "# Вопрос 15. Фильмы с каким актером принесли самые высокие кассовые сборы в 2012 году?\n",
    "\n",
    "data = pd.read_csv('movie_bd_v5.csv')\n",
    "data['profit'] = data['revenue'] - data['budget']\n",
    "data['year'] = data.release_date.apply(lambda x:(int(x[-4::1])))\n",
    "data.cast = data.cast.apply(lambda x: str(x).split('|'))\n",
    "data = data.explode('cast')\n",
    "\n",
    "\n",
    "data_1 = data.loc[data.year == 2012]\n",
    "\n",
    "\n",
    "profit_actor = data_1.groupby(['cast'])['revenue'].sum().sort_values(ascending=False).head(1)\n",
    "print(profit_actor)"
   ]
  },
  {
   "cell_type": "code",
   "execution_count": 152,
   "metadata": {},
   "outputs": [
    {
     "name": "stdout",
     "output_type": "stream",
     "text": [
      "Matt Damon    18\n",
      "Name: cast, dtype: int64\n"
     ]
    }
   ],
   "source": [
    "answers['16'] = 'Matt Damon'\n",
    "# +\n",
    "\n",
    "# Вопрос 16. Какой актер снялся в большем количестве высокобюджетных фильмов? Примечание: в фильмах, где бюджет выше среднего по данной выборке. correct\n",
    "data = pd.read_csv('movie_bd_v5.csv')\n",
    "\n",
    "data.cast = data.cast.apply(lambda x: str(x).split('|'))\n",
    "data_1 = data.explode('cast')\n",
    "\n",
    "films_budget_average = data_1.loc[data.budget >= data.budget.mean()]\n",
    "actor_average = films_budget_average['cast'].value_counts().head(1)\n",
    "print(actor_average)"
   ]
  },
  {
   "cell_type": "code",
   "execution_count": null,
   "metadata": {},
   "outputs": [],
   "source": []
  },
  {
   "cell_type": "code",
   "execution_count": 153,
   "metadata": {},
   "outputs": [
    {
     "name": "stdout",
     "output_type": "stream",
     "text": [
      "year\n",
      "2014    2292949646\n",
      "Name: profit, dtype: int64\n"
     ]
    }
   ],
   "source": [
    "answers['20'] = '2014'\n",
    "# +\n",
    "\n",
    "# Вопрос 20. Какой самый прибыльный год для студии Warner Bros?\n",
    "\n",
    "data = pd.read_csv('movie_bd_v5.csv')\n",
    "data['profit'] = data['revenue'] - data['budget']\n",
    "data['year'] = data.release_date.apply(lambda x:(int(x[-4::1])))\n",
    "data.production_companies = data.production_companies.apply(lambda x: str(x).split('|'))\n",
    "data_1 = data.explode('production_companies')\n",
    "\n",
    "WB_year_1 = data_1.loc[data_1.production_companies.str.contains(\"Warner\",na=False)]\n",
    "WB_year_1.describe\n",
    "WB_year_2 = data_1.loc[data_1.production_companies == \"Warner Bros. Pictures\"]\n",
    "WB_year_2.describe\n",
    "\n",
    "WB_good_year_lst = WB_year_1.groupby(['year'])['profit'].sum().sort_values(ascending=False).head(1)\n",
    "\n",
    "print(WB_good_year_lst)"
   ]
  },
  {
   "cell_type": "code",
   "execution_count": 154,
   "metadata": {},
   "outputs": [
    {
     "data": {
      "text/plain": [
       "{'1': 'Pirates of the Caribbean: On Stranger Tides (tt1298650)',\n",
       " '2': 'Gods and Generals (tt0279111)',\n",
       " '3': 'Winnie the Pooh (tt1449283)',\n",
       " '4': '110',\n",
       " '5': '107',\n",
       " '6': 'Avatar (tt0499549)',\n",
       " '7': 'The Lone Ranger (tt1210819)',\n",
       " '8': '1478',\n",
       " '9': 'The Dark Knight (tt0468569)',\n",
       " '10': 'The Lone Ranger (tt1210819)',\n",
       " '11': 'Drama',\n",
       " '12': 'Drama',\n",
       " '13': 'Peter Jackson',\n",
       " '14': 'Robert Rodriguez',\n",
       " '17': 'Action',\n",
       " '18': 'K-19: The Widowmaker',\n",
       " '19': '2015',\n",
       " '21': '9 (сентябрь)',\n",
       " '22': '450',\n",
       " '23': 'Peter Jackson',\n",
       " '24': 'Four By Two Productions',\n",
       " '25': 'Midnight Picture Show',\n",
       " '26': 'Inside Out, The Dark Knight, 12 Years a Slave',\n",
       " '27': 'Daniel Radcliffe & Rupert Grint',\n",
       " '15': 'Chris Hemsworth',\n",
       " '16': 'Matt Damon',\n",
       " '20': '2014'}"
      ]
     },
     "execution_count": 154,
     "metadata": {},
     "output_type": "execute_result"
    }
   ],
   "source": [
    "# в конце можно посмотреть свои ответы к каждому вопросу\n",
    "answers"
   ]
  },
  {
   "cell_type": "code",
   "execution_count": 155,
   "metadata": {},
   "outputs": [
    {
     "data": {
      "text/plain": [
       "27"
      ]
     },
     "execution_count": 155,
     "metadata": {},
     "output_type": "execute_result"
    }
   ],
   "source": [
    "len(answers)"
   ]
  },
  {
   "cell_type": "code",
   "execution_count": null,
   "metadata": {},
   "outputs": [],
   "source": []
  }
 ],
 "metadata": {
  "colab": {
   "name": "Copy of [SF-DST] Movies IMBD v4.1 TEMPLATE.ipynb",
   "provenance": []
  },
  "kernelspec": {
   "display_name": "Python 3",
   "language": "python",
   "name": "python3"
  },
  "language_info": {
   "codemirror_mode": {
    "name": "ipython",
    "version": 3
   },
   "file_extension": ".py",
   "mimetype": "text/x-python",
   "name": "python",
   "nbconvert_exporter": "python",
   "pygments_lexer": "ipython3",
   "version": "3.8.8"
  }
 },
 "nbformat": 4,
 "nbformat_minor": 1
}
